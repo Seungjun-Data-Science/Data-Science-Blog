{
  "cells": [
    {
      "metadata": {
        "_uuid": "d5f1ff16e2adce8fc8204e2cc9d3fbe834461be1"
      },
      "cell_type": "markdown",
      "source": "### **Please consider upvoting if you liked the post :)**"
    },
    {
      "metadata": {
        "_uuid": "8f2839f25d086af736a60e9eeb907d3b93b6e0e5",
        "_cell_guid": "b1076dfc-b9ad-4769-8c92-a6c4dae69d19",
        "trusted": true
      },
      "cell_type": "code",
      "source": "# This Python 3 environment comes with many helpful analytics libraries installed\n# It is defined by the kaggle/python docker image: https://github.com/kaggle/docker-python\n# For example, here's several helpful packages to load in \n\nimport numpy as np # linear algebra\nimport pandas as pd # data processing, CSV file I/O (e.g. pd.read_csv)\nimport matplotlib.pyplot as plt\nimport seaborn as sns\n%matplotlib inline\n\n# Input data files are available in the \"../input/\" directory.\n# For example, running this (by clicking run or pressing Shift+Enter) will list the files in the input directory\n\nimport os\nprint(os.listdir(\"../input\"))\n\n# Any results you write to the current directory are saved as output.",
      "execution_count": null,
      "outputs": []
    },
    {
      "metadata": {
        "_uuid": "cf8ff37b3d772a56046310ea9baa9c41eaace62b"
      },
      "cell_type": "markdown",
      "source": "# **Read in Data**"
    },
    {
      "metadata": {
        "trusted": true,
        "_uuid": "714352497bf5b1c17264f23b9e93545443a78748"
      },
      "cell_type": "code",
      "source": "# Store data in df\ndf = pd.read_csv(\"../input/top250-00-19.csv\")",
      "execution_count": null,
      "outputs": []
    },
    {
      "metadata": {
        "_uuid": "5754cfe09077ed3e11e83aa10890b5a3c43f12f9"
      },
      "cell_type": "markdown",
      "source": "# **Simple Exploration of Data**"
    },
    {
      "metadata": {
        "trusted": true,
        "_uuid": "662880c8bfb838825387a0210daef830cf49fa8d"
      },
      "cell_type": "code",
      "source": "# Look at first five rows of data\ndf.head()",
      "execution_count": null,
      "outputs": []
    },
    {
      "metadata": {
        "trusted": true,
        "_uuid": "fa1817e46d38991921f12c7cfbb9cb4209621dfe"
      },
      "cell_type": "code",
      "source": "# Look at how many rows and columns the data have\ndf.shape",
      "execution_count": null,
      "outputs": []
    },
    {
      "metadata": {
        "trusted": true,
        "_uuid": "31e39919ef669db3101243762ebb2fa9b8e1f63b"
      },
      "cell_type": "code",
      "source": "# Basic statistics about the data and its variables\ndf.describe()",
      "execution_count": null,
      "outputs": []
    },
    {
      "metadata": {
        "_uuid": "120a36fa9ba4e51e73c210a8d1d1bb3b56281deb"
      },
      "cell_type": "markdown",
      "source": "# **EDA (Explatoratory Data Analysis)**"
    },
    {
      "metadata": {
        "_uuid": "2ed1902a85594f25ea2c5194297a8689985957dc"
      },
      "cell_type": "markdown",
      "source": "EDA is important because it allows us to better understand the data before modelling (although there is no specific modelling involved for this data... but of course, predicting the \"transfer fee\" of a player can be one potentially interesting project). Also, we can preliminary insights about the data through EDA  even before using anything fancy like Machine Learning or Deep Learning for modelling!"
    },
    {
      "metadata": {
        "trusted": true,
        "_uuid": "5be5c895600a797e837994c4538068e92e8d20e9"
      },
      "cell_type": "code",
      "source": "plt.style.use('ggplot')",
      "execution_count": null,
      "outputs": []
    },
    {
      "metadata": {
        "trusted": true,
        "_uuid": "c82bcdff7ecf0703182579b76f9eafaae4dc612c"
      },
      "cell_type": "code",
      "source": "plt.rcParams['figure.figsize'] = (9, 9)",
      "execution_count": null,
      "outputs": []
    },
    {
      "metadata": {
        "_uuid": "69b19c58ad768b87f9d8a4f60abf527eb6b5e6f3"
      },
      "cell_type": "markdown",
      "source": "## Distribution of variables"
    },
    {
      "metadata": {
        "trusted": true,
        "_uuid": "d039dea569707e7a23f11506d71a1938c6a90f53"
      },
      "cell_type": "code",
      "source": "# Histogram\ndf.hist()\nplt.tight_layout()",
      "execution_count": null,
      "outputs": []
    },
    {
      "metadata": {
        "_uuid": "b95c04158afe44ce9cff45565795076be1cb5a52"
      },
      "cell_type": "markdown",
      "source": "Age seems to be pretty normally distributed but market_value and transfer_fee seem very skeweed to the right with very little players traded at very high prices. This is fair becuase we only have \"few\" star players who are traded for exorbitant prices"
    },
    {
      "metadata": {
        "_uuid": "6f436bc96c15df16250632d2968021343363d6ef"
      },
      "cell_type": "markdown",
      "source": "## Which \"position\" has been traded the most?"
    },
    {
      "metadata": {
        "trusted": true,
        "_uuid": "88e7b0e44c1e747535812b1594bd02915e4551b0"
      },
      "cell_type": "code",
      "source": "sns.countplot(x='Position',data=df)\nplt.xticks(rotation=90)",
      "execution_count": null,
      "outputs": []
    },
    {
      "metadata": {
        "_uuid": "5dcc8b5c2c60255a487c57bb63f224efb5abbcac"
      },
      "cell_type": "markdown",
      "source": "Center Foward(CF) traded the most followed by Center Back and multiple midfielder positions. The **Center positions** are traded the most!"
    },
    {
      "metadata": {
        "_uuid": "de3f14e815d22a99b5a8d5b765270089a3062638"
      },
      "cell_type": "markdown",
      "source": "## Which Season was football trade the most active?"
    },
    {
      "metadata": {
        "trusted": true,
        "_uuid": "b2e4b450c0077302eabe6c67f35247bb27eeecc8"
      },
      "cell_type": "code",
      "source": "sns.pointplot(x='index',y='Season',data=pd.DataFrame(df.Season.value_counts()).reset_index().sort_values('index'))\nplt.xticks(rotation=90)\nplt.xlabel('Season')\nplt.ylabel('Number of Trade')",
      "execution_count": null,
      "outputs": []
    },
    {
      "metadata": {
        "_uuid": "7ea300954f86ffbd6cb5c36657e01f8df2033357"
      },
      "cell_type": "markdown",
      "source": "Multiple seasons had the most number of trade (e.g. 2013-2014, 2016-2017) and the number of trades doesn't seem to display any kind of seasonal trend over time!"
    },
    {
      "metadata": {
        "_uuid": "a397aba4b0c7f208a6d2cadbd0f014b7b6a7016d"
      },
      "cell_type": "markdown",
      "source": "## Which league spent the most money buying players for every season? & Which league sold the most players in terms of average transfer fees?"
    },
    {
      "metadata": {
        "_uuid": "7e75470c148c922d4a5a7ac790a15374ce6274dd"
      },
      "cell_type": "markdown",
      "source": "Groupby is a very useful operation for finding answers to these kinds of questions! Groupby allows us to perform calculations on every group!"
    },
    {
      "metadata": {
        "trusted": true,
        "_uuid": "4e868339d0a654c846b93cdae02170f1ee003fa4"
      },
      "cell_type": "code",
      "source": "# Order by mean transfer fee from highest to lowest\ndf.groupby(['League_to']).Transfer_fee.describe().sort_values('mean', ascending=False)",
      "execution_count": null,
      "outputs": []
    },
    {
      "metadata": {
        "_uuid": "1e2870e7577ca566af2de8b3cfd4c418e04263d5"
      },
      "cell_type": "markdown",
      "source": "The league that spent the most money, on average, to buy players for the past 13 years or so was Spanish LaLiga and British Premiere League. One unexpected league that was ranked 5th place was the Super League of Greece which is less known to global soccer fans. But it has definitely spent a lot of money bringing expensive players to the league!"
    },
    {
      "metadata": {
        "trusted": true,
        "_uuid": "dabf7709f69de889123e5130c7c11feb48150a10"
      },
      "cell_type": "code",
      "source": "# Order by mean transfer fee from highest to lowest\ndf.groupby('League_from').Transfer_fee.describe().sort_values('mean', ascending=False)",
      "execution_count": null,
      "outputs": []
    },
    {
      "metadata": {
        "_uuid": "c78a2859e13a9e260e78abcb8e16dd105524c18f"
      },
      "cell_type": "markdown",
      "source": "Leagues that sold players the most in terms of average transfer fee are not that different from the previous list of leagues which spent the most money on average to buy players. But Ligue1, the top division of French men's soccer league, is topping the list. However, we can see there were only two trades that happened (as we can see from the \"count\" column with the number 2) but the average of those two trades were significant enough to make Ligue1 rank 1st for this list. Let's look at which two players from Ligue1 were sold to other teams"
    },
    {
      "metadata": {
        "trusted": true,
        "_uuid": "d0bc28fc7028166d35c1e4e8f14de08e54b92a5f"
      },
      "cell_type": "code",
      "source": "# Two players from Ligue1 sold to other teams\ndf[df.League_from == 'Rel. Ligue 1']",
      "execution_count": null,
      "outputs": []
    },
    {
      "metadata": {
        "_uuid": "fbd032b4a900d526fc92dd6476ef9d056a6083a4"
      },
      "cell_type": "markdown",
      "source": "## Which Teams spent the most money (total sum) in buying players for the past 13 years?"
    },
    {
      "metadata": {
        "trusted": true,
        "_uuid": "d6d284f7d31f91042f9ae9e2a4d13911e44a3fde"
      },
      "cell_type": "code",
      "source": "# Top10 Teams that spend the most money in terms of total amount in buying players for the past 13 years\ndf.groupby(\"Team_to\").Transfer_fee.sum().sort_values(ascending=False).head(10)",
      "execution_count": null,
      "outputs": []
    },
    {
      "metadata": {
        "_uuid": "5472071f82027fe779a6aa612544a5405d9362ae"
      },
      "cell_type": "markdown",
      "source": "Big teams in premeire league, La Liga, Serie A and Ligue1 spent the most money in buying star players!"
    },
    {
      "metadata": {
        "_uuid": "f8f5979f67b3d670a5ecb1e7d0b73bdc057abbae"
      },
      "cell_type": "markdown",
      "source": "## Comparison of players sold from Premeire League, La Liga and Serie A"
    },
    {
      "metadata": {
        "trusted": true,
        "_uuid": "d3fb860dc4574d4326ff93ff6b6420e663f853aa"
      },
      "cell_type": "code",
      "source": "df_from_top3_league = df[df.League_from.isin(['Serie A','Premier League','LaLiga'])]",
      "execution_count": null,
      "outputs": []
    },
    {
      "metadata": {
        "_uuid": "d2b005b77242ec83fc01a735a40e127cce9bb19e"
      },
      "cell_type": "markdown",
      "source": "We can use \"Parallel Coordinates\" to compare players sold from the three leagues!"
    },
    {
      "metadata": {
        "trusted": true,
        "scrolled": false,
        "_uuid": "87deff2be4251a12cfc4d29a061f6c98b9cdd197"
      },
      "cell_type": "code",
      "source": "from pandas.plotting import parallel_coordinates\nparallel_coordinates(df_from_top3_league.drop(['Name','Position','Team_from',\n                             'Team_to','League_to','Season'], axis=1), 'League_from',colormap='rainbow')",
      "execution_count": null,
      "outputs": []
    },
    {
      "metadata": {
        "_uuid": "a7b8ff756b2f34095b2e5132e0fe6cf9021aceb0"
      },
      "cell_type": "markdown",
      "source": "- We can observe the three outliers (the three strands of data whose transfer fee are way higher than the market value and also way up in the graph compared to the cluster of strands below) let's look at which players they are\n- Most strands seem to be clustered around at the bottom with the green(Serie A) and orange(Premier League) having been valued at slightly higher market value and transferred for higher fees than LaLiga players"
    },
    {
      "metadata": {
        "trusted": true,
        "_uuid": "41e443172920b08a3a47ef8ba1bb278a6f14a7f2"
      },
      "cell_type": "code",
      "source": "df_from_top3_league.sort_values('Transfer_fee',ascending=False).head(3)",
      "execution_count": null,
      "outputs": []
    },
    {
      "metadata": {
        "_uuid": "02c54fcbe25ea5aea00c6c0e6879d0fae856b905"
      },
      "cell_type": "markdown",
      "source": "Those three outlier players were the big shots! Christiano Ronaldo, Coutinho and Neymar lol"
    },
    {
      "metadata": {
        "trusted": true,
        "scrolled": false,
        "_uuid": "5d1ef37a5bbee59f39d265a1562be5e018fbf55f"
      },
      "cell_type": "code",
      "source": "sns.FacetGrid(df_from_top3_league, hue=\"League_from\", height=10).\\\nmap(plt.scatter, \"Market_value\", \"Transfer_fee\",alpha=0.6).add_legend()",
      "execution_count": null,
      "outputs": []
    },
    {
      "metadata": {
        "_uuid": "2a80fb85b32787412679e3b76802ef60d6d06a22"
      },
      "cell_type": "markdown",
      "source": "We can also fit a linear regression line on each of the league cluster!"
    },
    {
      "metadata": {
        "trusted": true,
        "_uuid": "373bf644587636b2a3a1c1d802a9156d558e6973"
      },
      "cell_type": "code",
      "source": "sns.lmplot(\"Market_value\", \"Transfer_fee\", data=df_from_top3_league, hue='League_from',height=10)",
      "execution_count": null,
      "outputs": []
    },
    {
      "metadata": {
        "_uuid": "ed58fb84c11ce39020dc5901011d474f40ce0dad"
      },
      "cell_type": "markdown",
      "source": "- Players sold from Premier League have less variability compared to the other two leagues. Majority of the points are clustered at the lower hand left corner grid, so the transfer\n- The slopes of the linear regression lines are steepest in the order of LaLiga, Premier League and Serie A. This shows us that for one increment of market value of a player, it is more expensive to purchase a player from LaLiga than Premier League"
    },
    {
      "metadata": {
        "_uuid": "68f1d3d87f545673cd6a8077cfbcfc92fea38d8f"
      },
      "cell_type": "markdown",
      "source": "## Correlation amongst variables"
    },
    {
      "metadata": {
        "trusted": true,
        "_uuid": "6931efe980224ecb456ceced6b0841d1786b5b45"
      },
      "cell_type": "code",
      "source": "# Correlation Heatmap\nsns.heatmap(df.corr(),annot=True)",
      "execution_count": null,
      "outputs": []
    },
    {
      "metadata": {
        "_uuid": "32e93565ddac92a665bf7fe502be0ceae9b459a3"
      },
      "cell_type": "markdown",
      "source": "- Correlation between market value and transfer fee is very high. This means the more expensive the player is evaluated in the market, the more likely it is going to be sold at a expensive price.\n- The correlation value betwen age and transfer free is negative although the strenght of the correlation isn't that strong. This at least suggests that the older the age, the less value it has in the market. Of course, I expect the returns to age is a reversed bell shaped curve because as a player gets older, he gets more experience and hence becomes more valuable as a player. But after a certain threshold, the player is considered to be old and is valued lowly in the market."
    },
    {
      "metadata": {
        "_uuid": "7173af272780bc21a2ca04ac86deba10e98add4b"
      },
      "cell_type": "markdown",
      "source": "### **Please consider upvoting if you liked the post :)**"
    }
  ],
  "metadata": {
    "kernelspec": {
      "display_name": "Python 3",
      "language": "python",
      "name": "python3"
    },
    "language_info": {
      "name": "python",
      "version": "3.6.6",
      "mimetype": "text/x-python",
      "codemirror_mode": {
        "name": "ipython",
        "version": 3
      },
      "pygments_lexer": "ipython3",
      "nbconvert_exporter": "python",
      "file_extension": ".py"
    }
  },
  "nbformat": 4,
  "nbformat_minor": 1
}