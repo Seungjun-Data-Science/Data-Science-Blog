{
 "cells": [
  {
   "cell_type": "markdown",
   "metadata": {},
   "source": [
    "## How are college types and regions they are located correlated to salaries after graduation?"
   ]
  },
  {
   "cell_type": "markdown",
   "metadata": {},
   "source": [
    "https://www.kaggle.com/wsj/college-salaries/"
   ]
  },
  {
   "cell_type": "markdown",
   "metadata": {},
   "source": [
    "### Pre-processing"
   ]
  },
  {
   "cell_type": "code",
   "execution_count": 1,
   "metadata": {
    "collapsed": true
   },
   "outputs": [],
   "source": [
    "import pandas as pd\n",
    "import numpy as np\n",
    "import matplotlib.pyplot as plt\n",
    "import seaborn as sns\n",
    "%matplotlib inline"
   ]
  },
  {
   "cell_type": "code",
   "execution_count": 2,
   "metadata": {
    "collapsed": true
   },
   "outputs": [],
   "source": [
    "college_df = pd.read_csv('salaries-by-college-type.csv')\n",
    "region_df = pd.read_csv('salaries-by-region.csv')"
   ]
  },
  {
   "cell_type": "code",
   "execution_count": 3,
   "metadata": {},
   "outputs": [
    {
     "data": {
      "text/html": [
       "<div>\n",
       "<style>\n",
       "    .dataframe thead tr:only-child th {\n",
       "        text-align: right;\n",
       "    }\n",
       "\n",
       "    .dataframe thead th {\n",
       "        text-align: left;\n",
       "    }\n",
       "\n",
       "    .dataframe tbody tr th {\n",
       "        vertical-align: top;\n",
       "    }\n",
       "</style>\n",
       "<table border=\"1\" class=\"dataframe\">\n",
       "  <thead>\n",
       "    <tr style=\"text-align: right;\">\n",
       "      <th></th>\n",
       "      <th>School Name</th>\n",
       "      <th>School Type</th>\n",
       "      <th>Starting Median Salary</th>\n",
       "      <th>Mid-Career Median Salary</th>\n",
       "      <th>Mid-Career 10th Percentile Salary</th>\n",
       "      <th>Mid-Career 25th Percentile Salary</th>\n",
       "      <th>Mid-Career 75th Percentile Salary</th>\n",
       "      <th>Mid-Career 90th Percentile Salary</th>\n",
       "      <th>Region</th>\n",
       "    </tr>\n",
       "  </thead>\n",
       "  <tbody>\n",
       "    <tr>\n",
       "      <th>0</th>\n",
       "      <td>Massachusetts Institute of Technology (MIT)</td>\n",
       "      <td>Engineering</td>\n",
       "      <td>$72,200.00</td>\n",
       "      <td>$126,000.00</td>\n",
       "      <td>$76,800.00</td>\n",
       "      <td>$99,200.00</td>\n",
       "      <td>$168,000.00</td>\n",
       "      <td>$220,000.00</td>\n",
       "      <td>Northeastern</td>\n",
       "    </tr>\n",
       "    <tr>\n",
       "      <th>1</th>\n",
       "      <td>California Institute of Technology (CIT)</td>\n",
       "      <td>Engineering</td>\n",
       "      <td>$75,500.00</td>\n",
       "      <td>$123,000.00</td>\n",
       "      <td>NaN</td>\n",
       "      <td>$104,000.00</td>\n",
       "      <td>$161,000.00</td>\n",
       "      <td>NaN</td>\n",
       "      <td>California</td>\n",
       "    </tr>\n",
       "    <tr>\n",
       "      <th>2</th>\n",
       "      <td>Harvey Mudd College</td>\n",
       "      <td>Engineering</td>\n",
       "      <td>$71,800.00</td>\n",
       "      <td>$122,000.00</td>\n",
       "      <td>NaN</td>\n",
       "      <td>$96,000.00</td>\n",
       "      <td>$180,000.00</td>\n",
       "      <td>NaN</td>\n",
       "      <td>California</td>\n",
       "    </tr>\n",
       "    <tr>\n",
       "      <th>3</th>\n",
       "      <td>Polytechnic University of New York, Brooklyn</td>\n",
       "      <td>Engineering</td>\n",
       "      <td>$62,400.00</td>\n",
       "      <td>$114,000.00</td>\n",
       "      <td>$66,800.00</td>\n",
       "      <td>$94,300.00</td>\n",
       "      <td>$143,000.00</td>\n",
       "      <td>$190,000.00</td>\n",
       "      <td>Northeastern</td>\n",
       "    </tr>\n",
       "    <tr>\n",
       "      <th>4</th>\n",
       "      <td>Cooper Union</td>\n",
       "      <td>Engineering</td>\n",
       "      <td>$62,200.00</td>\n",
       "      <td>$114,000.00</td>\n",
       "      <td>NaN</td>\n",
       "      <td>$80,200.00</td>\n",
       "      <td>$142,000.00</td>\n",
       "      <td>NaN</td>\n",
       "      <td>Northeastern</td>\n",
       "    </tr>\n",
       "  </tbody>\n",
       "</table>\n",
       "</div>"
      ],
      "text/plain": [
       "                                    School Name  School Type  \\\n",
       "0   Massachusetts Institute of Technology (MIT)  Engineering   \n",
       "1      California Institute of Technology (CIT)  Engineering   \n",
       "2                           Harvey Mudd College  Engineering   \n",
       "3  Polytechnic University of New York, Brooklyn  Engineering   \n",
       "4                                  Cooper Union  Engineering   \n",
       "\n",
       "  Starting Median Salary Mid-Career Median Salary  \\\n",
       "0             $72,200.00              $126,000.00   \n",
       "1             $75,500.00              $123,000.00   \n",
       "2             $71,800.00              $122,000.00   \n",
       "3             $62,400.00              $114,000.00   \n",
       "4             $62,200.00              $114,000.00   \n",
       "\n",
       "  Mid-Career 10th Percentile Salary Mid-Career 25th Percentile Salary  \\\n",
       "0                        $76,800.00                        $99,200.00   \n",
       "1                               NaN                       $104,000.00   \n",
       "2                               NaN                        $96,000.00   \n",
       "3                        $66,800.00                        $94,300.00   \n",
       "4                               NaN                        $80,200.00   \n",
       "\n",
       "  Mid-Career 75th Percentile Salary Mid-Career 90th Percentile Salary  \\\n",
       "0                       $168,000.00                       $220,000.00   \n",
       "1                       $161,000.00                               NaN   \n",
       "2                       $180,000.00                               NaN   \n",
       "3                       $143,000.00                       $190,000.00   \n",
       "4                       $142,000.00                               NaN   \n",
       "\n",
       "         Region  \n",
       "0  Northeastern  \n",
       "1    California  \n",
       "2    California  \n",
       "3  Northeastern  \n",
       "4  Northeastern  "
      ]
     },
     "execution_count": 3,
     "metadata": {},
     "output_type": "execute_result"
    }
   ],
   "source": [
    "# Combining salary by college data and salary by region data into one unified data\n",
    "\n",
    "college_region_df = college_df.\\\n",
    "merge(region_df.loc[:, ('School Name','Region')], how='left',on='School Name')\n",
    "\n",
    "college_region_df.head()"
   ]
  },
  {
   "cell_type": "code",
   "execution_count": 4,
   "metadata": {},
   "outputs": [
    {
     "name": "stdout",
     "output_type": "stream",
     "text": [
      "<class 'pandas.core.frame.DataFrame'>\n",
      "Int64Index: 269 entries, 0 to 268\n",
      "Data columns (total 9 columns):\n",
      "School Name                          269 non-null object\n",
      "School Type                          269 non-null object\n",
      "Starting Median Salary               269 non-null object\n",
      "Mid-Career Median Salary             269 non-null object\n",
      "Mid-Career 10th Percentile Salary    231 non-null object\n",
      "Mid-Career 25th Percentile Salary    269 non-null object\n",
      "Mid-Career 75th Percentile Salary    269 non-null object\n",
      "Mid-Career 90th Percentile Salary    231 non-null object\n",
      "Region                               268 non-null object\n",
      "dtypes: object(9)\n",
      "memory usage: 21.0+ KB\n"
     ]
    }
   ],
   "source": [
    "# There is missing data. Also, some of the data types that are supposed to be \"numeric\" are currently \"objects\", so we need to fix them too\n",
    "college_region_df.info()"
   ]
  },
  {
   "cell_type": "code",
   "execution_count": 5,
   "metadata": {
    "collapsed": true
   },
   "outputs": [],
   "source": [
    "dollar_sign_cols = ['Starting Median Salary','Mid-Career Median Salary','Mid-Career 10th Percentile Salary',\n",
    "                    'Mid-Career 25th Percentile Salary','Mid-Career 75th Percentile Salary','Mid-Career 90th Percentile Salary']\n",
    "\n",
    "for x in dollar_sign_cols:\n",
    "    college_region_df[x] = college_region_df[x].str.replace(\"$\",\"\")\n",
    "    college_region_df[x] = college_region_df[x].str.replace(\",\",\"\")\n",
    "    college_region_df[x] = pd.to_numeric(college_region_df[x])"
   ]
  },
  {
   "cell_type": "code",
   "execution_count": 6,
   "metadata": {
    "collapsed": true,
    "scrolled": true
   },
   "outputs": [],
   "source": [
    "# Filling in missing data with column interpolation\n",
    "\n",
    "college_region_df.interpolate(inplace=True)"
   ]
  },
  {
   "cell_type": "code",
   "execution_count": 7,
   "metadata": {
    "scrolled": true
   },
   "outputs": [
    {
     "data": {
      "text/html": [
       "<div>\n",
       "<style>\n",
       "    .dataframe thead tr:only-child th {\n",
       "        text-align: right;\n",
       "    }\n",
       "\n",
       "    .dataframe thead th {\n",
       "        text-align: left;\n",
       "    }\n",
       "\n",
       "    .dataframe tbody tr th {\n",
       "        vertical-align: top;\n",
       "    }\n",
       "</style>\n",
       "<table border=\"1\" class=\"dataframe\">\n",
       "  <thead>\n",
       "    <tr style=\"text-align: right;\">\n",
       "      <th></th>\n",
       "      <th>School Name</th>\n",
       "      <th>School Type</th>\n",
       "      <th>Starting Median Salary</th>\n",
       "      <th>Mid-Career Median Salary</th>\n",
       "      <th>Mid-Career 10th Percentile Salary</th>\n",
       "      <th>Mid-Career 25th Percentile Salary</th>\n",
       "      <th>Mid-Career 75th Percentile Salary</th>\n",
       "      <th>Mid-Career 90th Percentile Salary</th>\n",
       "      <th>Region</th>\n",
       "    </tr>\n",
       "  </thead>\n",
       "  <tbody>\n",
       "    <tr>\n",
       "      <th>0</th>\n",
       "      <td>Massachusetts Institute of Technology (MIT)</td>\n",
       "      <td>Engineering</td>\n",
       "      <td>72200.0</td>\n",
       "      <td>126000.0</td>\n",
       "      <td>76800.000000</td>\n",
       "      <td>99200.0</td>\n",
       "      <td>168000.0</td>\n",
       "      <td>220000.0</td>\n",
       "      <td>Northeastern</td>\n",
       "    </tr>\n",
       "    <tr>\n",
       "      <th>1</th>\n",
       "      <td>California Institute of Technology (CIT)</td>\n",
       "      <td>Engineering</td>\n",
       "      <td>75500.0</td>\n",
       "      <td>123000.0</td>\n",
       "      <td>73466.666667</td>\n",
       "      <td>104000.0</td>\n",
       "      <td>161000.0</td>\n",
       "      <td>210000.0</td>\n",
       "      <td>California</td>\n",
       "    </tr>\n",
       "    <tr>\n",
       "      <th>2</th>\n",
       "      <td>Harvey Mudd College</td>\n",
       "      <td>Engineering</td>\n",
       "      <td>71800.0</td>\n",
       "      <td>122000.0</td>\n",
       "      <td>70133.333333</td>\n",
       "      <td>96000.0</td>\n",
       "      <td>180000.0</td>\n",
       "      <td>200000.0</td>\n",
       "      <td>California</td>\n",
       "    </tr>\n",
       "    <tr>\n",
       "      <th>3</th>\n",
       "      <td>Polytechnic University of New York, Brooklyn</td>\n",
       "      <td>Engineering</td>\n",
       "      <td>62400.0</td>\n",
       "      <td>114000.0</td>\n",
       "      <td>66800.000000</td>\n",
       "      <td>94300.0</td>\n",
       "      <td>143000.0</td>\n",
       "      <td>190000.0</td>\n",
       "      <td>Northeastern</td>\n",
       "    </tr>\n",
       "    <tr>\n",
       "      <th>4</th>\n",
       "      <td>Cooper Union</td>\n",
       "      <td>Engineering</td>\n",
       "      <td>62200.0</td>\n",
       "      <td>114000.0</td>\n",
       "      <td>73400.000000</td>\n",
       "      <td>80200.0</td>\n",
       "      <td>142000.0</td>\n",
       "      <td>185000.0</td>\n",
       "      <td>Northeastern</td>\n",
       "    </tr>\n",
       "  </tbody>\n",
       "</table>\n",
       "</div>"
      ],
      "text/plain": [
       "                                    School Name  School Type  \\\n",
       "0   Massachusetts Institute of Technology (MIT)  Engineering   \n",
       "1      California Institute of Technology (CIT)  Engineering   \n",
       "2                           Harvey Mudd College  Engineering   \n",
       "3  Polytechnic University of New York, Brooklyn  Engineering   \n",
       "4                                  Cooper Union  Engineering   \n",
       "\n",
       "   Starting Median Salary  Mid-Career Median Salary  \\\n",
       "0                 72200.0                  126000.0   \n",
       "1                 75500.0                  123000.0   \n",
       "2                 71800.0                  122000.0   \n",
       "3                 62400.0                  114000.0   \n",
       "4                 62200.0                  114000.0   \n",
       "\n",
       "   Mid-Career 10th Percentile Salary  Mid-Career 25th Percentile Salary  \\\n",
       "0                       76800.000000                            99200.0   \n",
       "1                       73466.666667                           104000.0   \n",
       "2                       70133.333333                            96000.0   \n",
       "3                       66800.000000                            94300.0   \n",
       "4                       73400.000000                            80200.0   \n",
       "\n",
       "   Mid-Career 75th Percentile Salary  Mid-Career 90th Percentile Salary  \\\n",
       "0                           168000.0                           220000.0   \n",
       "1                           161000.0                           210000.0   \n",
       "2                           180000.0                           200000.0   \n",
       "3                           143000.0                           190000.0   \n",
       "4                           142000.0                           185000.0   \n",
       "\n",
       "         Region  \n",
       "0  Northeastern  \n",
       "1    California  \n",
       "2    California  \n",
       "3  Northeastern  \n",
       "4  Northeastern  "
      ]
     },
     "execution_count": 7,
     "metadata": {},
     "output_type": "execute_result"
    }
   ],
   "source": [
    "college_region_df.head()"
   ]
  },
  {
   "cell_type": "markdown",
   "metadata": {},
   "source": [
    "### Type of Schools"
   ]
  },
  {
   "cell_type": "code",
   "execution_count": 53,
   "metadata": {},
   "outputs": [
    {
     "data": {
      "image/png": "[encoded data removed]",
      "text/plain": [
       "<matplotlib.figure.Figure at 0x1d96263d4a8>"
      ]
     },
     "metadata": {},
     "output_type": "display_data"
    }
   ],
   "source": [
    "# Average starting median salary of each type of schools\n",
    "\n",
    "sns.set_style(\"whitegrid\")\n",
    "bars = sns.barplot(college_region_df.groupby('School Type')['Starting Median Salary'].mean().index, \n",
    "            college_region_df.groupby('School Type')['Starting Median Salary'].mean())\n",
    "\n",
    "# Taking off frame from the graph\n",
    "for spine in plt.gca().spines.values():\n",
    "    spine.set_visible(False)\n",
    "\n",
    "# Annotating salaries on each bar\n",
    "for bar in bars.patches:\n",
    "    plt.gca().text(bar.get_x() +\\\n",
    "                   bar.get_width()/2, \n",
    "                   bar.get_height()-10000, '$ ' + str(int(bar.get_height())), \n",
    "                 ha='center', color='black', fontsize=15)"
   ]
  },
  {
   "cell_type": "markdown",
   "metadata": {},
   "source": [
    "The mean starting median salary is highest for Ivy League Schools, follwed by Engineering schools with not much difference"
   ]
  },
  {
   "cell_type": "code",
   "execution_count": 47,
   "metadata": {},
   "outputs": [
    {
     "data": {
      "text/plain": [
       "<matplotlib.axes._subplots.AxesSubplot at 0x1d9627b8940>"
      ]
     },
     "execution_count": 47,
     "metadata": {},
     "output_type": "execute_result"
    },
    {
     "data": {
      "image/png": "[encoded data removed]",
      "text/plain": [
       "<matplotlib.figure.Figure at 0x1d962458278>"
      ]
     },
     "metadata": {},
     "output_type": "display_data"
    }
   ],
   "source": [
    "sns.boxplot(x='School Type',y='Starting Median Salary', data=college_region_df)"
   ]
  },
  {
   "cell_type": "markdown",
   "metadata": {},
   "source": [
    "Although Ivy leagues schools have modestly higher median starting salaries than Engineering schools, their standard deviation of the distribution for starting median salary is way smaller than that of Engineering schools. That being said, students who graduate from Engineering schools receive starting salaries that have wider ranges than those who are from Ivy League schools"
   ]
  },
  {
   "cell_type": "code",
   "execution_count": 51,
   "metadata": {},
   "outputs": [
    {
     "data": {
      "text/plain": [
       "<matplotlib.axes._subplots.AxesSubplot at 0x1d962847358>"
      ]
     },
     "execution_count": 51,
     "metadata": {},
     "output_type": "execute_result"
    },
    {
     "data": {
      "image/png": "[encoded data removed]",
      "text/plain": [
       "<matplotlib.figure.Figure at 0x1d9626692b0>"
      ]
     },
     "metadata": {},
     "output_type": "display_data"
    }
   ],
   "source": [
    "sns.boxplot(x='School Type',y='Mid-Career Median Salary', data=college_region_df)"
   ]
  },
  {
   "cell_type": "markdown",
   "metadata": {},
   "source": [
    "In people's mid-career, salaries go up overall regardless of the type of colleges. But what's notable is the widened gap in median salaries between Ivy League school alumns and Engineering school alumns. Also, the variability of the distribution between the two types of schools is not that different anymore."
   ]
  },
  {
   "cell_type": "code",
   "execution_count": 52,
   "metadata": {},
   "outputs": [
    {
     "data": {
      "text/plain": [
       "<matplotlib.axes._subplots.AxesSubplot at 0x1d9626c3278>"
      ]
     },
     "execution_count": 52,
     "metadata": {},
     "output_type": "execute_result"
    },
    {
     "data": {
      "image/png": "[encoded data removed]",
      "text/plain": [
       "<matplotlib.figure.Figure at 0x1d962775438>"
      ]
     },
     "metadata": {},
     "output_type": "display_data"
    }
   ],
   "source": [
    "sns.boxplot(x='School Type',y='Mid-Career 90th Percentile Salary', data=college_region_df)"
   ]
  },
  {
   "cell_type": "markdown",
   "metadata": {
    "collapsed": true
   },
   "source": [
    "When we look at the top-notch earners in their mid career, we can find out that some alumns from liberal arts colleges even earn as much as the Ivy League alumns who are in the 50% percentile. Moreover, the median mid-career 90th percentile salary for Engineering school alumns is slightly lower than that of Liberal Arts alumns. That being said, the most capable alumns from liberal arts colleges end up getting just as equally competitive salaries as their counterparts in their mid careers."
   ]
  },
  {
   "cell_type": "markdown",
   "metadata": {},
   "source": [
    "### Regions of Schools"
   ]
  },
  {
   "cell_type": "code",
   "execution_count": 56,
   "metadata": {},
   "outputs": [
    {
     "data": {
      "text/plain": [
       "Region\n",
       "California      27\n",
       "Midwestern      64\n",
       "Northeastern    70\n",
       "Southern        68\n",
       "Western         39\n",
       "Name: School Name, dtype: int64"
      ]
     },
     "execution_count": 56,
     "metadata": {},
     "output_type": "execute_result"
    }
   ],
   "source": [
    "college_region_df.groupby('Region').count()['School Name']"
   ]
  },
  {
   "cell_type": "markdown",
   "metadata": {},
   "source": [
    "The Northeast has the most colleges and universites in the States followed by the Midwest and the South"
   ]
  },
  {
   "cell_type": "code",
   "execution_count": 57,
   "metadata": {},
   "outputs": [
    {
     "data": {
      "text/html": [
       "<div>\n",
       "<style>\n",
       "    .dataframe thead tr:only-child th {\n",
       "        text-align: right;\n",
       "    }\n",
       "\n",
       "    .dataframe thead th {\n",
       "        text-align: left;\n",
       "    }\n",
       "\n",
       "    .dataframe tbody tr th {\n",
       "        vertical-align: top;\n",
       "    }\n",
       "</style>\n",
       "<table border=\"1\" class=\"dataframe\">\n",
       "  <thead>\n",
       "    <tr style=\"text-align: right;\">\n",
       "      <th></th>\n",
       "      <th>Starting Median Salary</th>\n",
       "      <th>Mid-Career Median Salary</th>\n",
       "      <th>Mid-Career 10th Percentile Salary</th>\n",
       "      <th>Mid-Career 25th Percentile Salary</th>\n",
       "      <th>Mid-Career 75th Percentile Salary</th>\n",
       "      <th>Mid-Career 90th Percentile Salary</th>\n",
       "    </tr>\n",
       "    <tr>\n",
       "      <th>Region</th>\n",
       "      <th></th>\n",
       "      <th></th>\n",
       "      <th></th>\n",
       "      <th></th>\n",
       "      <th></th>\n",
       "      <th></th>\n",
       "    </tr>\n",
       "  </thead>\n",
       "  <tbody>\n",
       "    <tr>\n",
       "      <th>California</th>\n",
       "      <td>50155.555556</td>\n",
       "      <td>91633.333333</td>\n",
       "      <td>48410.370370</td>\n",
       "      <td>66096.296296</td>\n",
       "      <td>124844.444444</td>\n",
       "      <td>166217.283951</td>\n",
       "    </tr>\n",
       "    <tr>\n",
       "      <th>Midwestern</th>\n",
       "      <td>43801.562500</td>\n",
       "      <td>77637.500000</td>\n",
       "      <td>42024.479167</td>\n",
       "      <td>56301.562500</td>\n",
       "      <td>106775.000000</td>\n",
       "      <td>146764.583333</td>\n",
       "    </tr>\n",
       "    <tr>\n",
       "      <th>Northeastern</th>\n",
       "      <td>49267.142857</td>\n",
       "      <td>93518.571429</td>\n",
       "      <td>50059.380952</td>\n",
       "      <td>66601.428571</td>\n",
       "      <td>133350.000000</td>\n",
       "      <td>190441.904762</td>\n",
       "    </tr>\n",
       "    <tr>\n",
       "      <th>Southern</th>\n",
       "      <td>44288.235294</td>\n",
       "      <td>80302.941176</td>\n",
       "      <td>42899.509804</td>\n",
       "      <td>57839.705882</td>\n",
       "      <td>110188.235294</td>\n",
       "      <td>152394.607843</td>\n",
       "    </tr>\n",
       "    <tr>\n",
       "      <th>Western</th>\n",
       "      <td>44151.282051</td>\n",
       "      <td>78135.897436</td>\n",
       "      <td>41587.948718</td>\n",
       "      <td>56238.461538</td>\n",
       "      <td>106161.538462</td>\n",
       "      <td>142011.111111</td>\n",
       "    </tr>\n",
       "  </tbody>\n",
       "</table>\n",
       "</div>"
      ],
      "text/plain": [
       "              Starting Median Salary  Mid-Career Median Salary  \\\n",
       "Region                                                           \n",
       "California              50155.555556              91633.333333   \n",
       "Midwestern              43801.562500              77637.500000   \n",
       "Northeastern            49267.142857              93518.571429   \n",
       "Southern                44288.235294              80302.941176   \n",
       "Western                 44151.282051              78135.897436   \n",
       "\n",
       "              Mid-Career 10th Percentile Salary  \\\n",
       "Region                                            \n",
       "California                         48410.370370   \n",
       "Midwestern                         42024.479167   \n",
       "Northeastern                       50059.380952   \n",
       "Southern                           42899.509804   \n",
       "Western                            41587.948718   \n",
       "\n",
       "              Mid-Career 25th Percentile Salary  \\\n",
       "Region                                            \n",
       "California                         66096.296296   \n",
       "Midwestern                         56301.562500   \n",
       "Northeastern                       66601.428571   \n",
       "Southern                           57839.705882   \n",
       "Western                            56238.461538   \n",
       "\n",
       "              Mid-Career 75th Percentile Salary  \\\n",
       "Region                                            \n",
       "California                        124844.444444   \n",
       "Midwestern                        106775.000000   \n",
       "Northeastern                      133350.000000   \n",
       "Southern                          110188.235294   \n",
       "Western                           106161.538462   \n",
       "\n",
       "              Mid-Career 90th Percentile Salary  \n",
       "Region                                           \n",
       "California                        166217.283951  \n",
       "Midwestern                        146764.583333  \n",
       "Northeastern                      190441.904762  \n",
       "Southern                          152394.607843  \n",
       "Western                           142011.111111  "
      ]
     },
     "execution_count": 57,
     "metadata": {},
     "output_type": "execute_result"
    }
   ],
   "source": [
    "college_region_df.groupby('Region').mean()"
   ]
  },
  {
   "cell_type": "code",
   "execution_count": 60,
   "metadata": {
    "collapsed": true
   },
   "outputs": [],
   "source": [
    "mean_by_region_df = college_region_df.groupby('Region').mean()"
   ]
  },
  {
   "cell_type": "code",
   "execution_count": 90,
   "metadata": {
    "scrolled": false
   },
   "outputs": [
    {
     "data": {
      "text/plain": [
       "<matplotlib.text.Text at 0x1d964870780>"
      ]
     },
     "execution_count": 90,
     "metadata": {},
     "output_type": "execute_result"
    },
    {
     "data": {
      "image/png": "[encoded data removed]",
      "text/plain": [
       "<matplotlib.figure.Figure at 0x1d964733b00>"
      ]
     },
     "metadata": {},
     "output_type": "display_data"
    }
   ],
   "source": [
    "plt.figure(figsize=(20,3))\n",
    "sns.pointplot(mean_by_region_df.index, mean_by_region_df['Starting Median Salary'], linestyles=['--'])\n",
    "sns.pointplot(mean_by_region_df.index, mean_by_region_df['Mid-Career Median Salary'])\n",
    "\n",
    "plt.ylabel('Salaries ($)')\n",
    "plt.legend(['Starting','Mid-Career'], loc=2, title='Legend')\n",
    "plt.title('Starting and Mid-Career Median Salaries by Region')"
   ]
  },
  {
   "cell_type": "markdown",
   "metadata": {},
   "source": [
    "The two regions with highest starting median salaries are Calfornia and the Northeast. California is slightly higher than the Northeast at first, but the Northeast surpasses California in the mid-career stage. Also, the salary disparity between Northeast+California and other regions becomes larger in the mid-career stage."
   ]
  },
  {
   "cell_type": "code",
   "execution_count": 112,
   "metadata": {
    "scrolled": true
   },
   "outputs": [
    {
     "data": {
      "text/html": [
       "<div>\n",
       "<style>\n",
       "    .dataframe thead tr:only-child th {\n",
       "        text-align: right;\n",
       "    }\n",
       "\n",
       "    .dataframe thead th {\n",
       "        text-align: left;\n",
       "    }\n",
       "\n",
       "    .dataframe tbody tr th {\n",
       "        vertical-align: top;\n",
       "    }\n",
       "</style>\n",
       "<table border=\"1\" class=\"dataframe\">\n",
       "  <thead>\n",
       "    <tr style=\"text-align: right;\">\n",
       "      <th></th>\n",
       "      <th>Starting Median Salary</th>\n",
       "      <th>Mid-Career Median Salary</th>\n",
       "    </tr>\n",
       "    <tr>\n",
       "      <th>Region</th>\n",
       "      <th></th>\n",
       "      <th></th>\n",
       "    </tr>\n",
       "  </thead>\n",
       "  <tbody>\n",
       "    <tr>\n",
       "      <th>California</th>\n",
       "      <td>75500.0</td>\n",
       "      <td>123000.0</td>\n",
       "    </tr>\n",
       "    <tr>\n",
       "      <th>Midwestern</th>\n",
       "      <td>57100.0</td>\n",
       "      <td>103000.0</td>\n",
       "    </tr>\n",
       "    <tr>\n",
       "      <th>Northeastern</th>\n",
       "      <td>72200.0</td>\n",
       "      <td>134000.0</td>\n",
       "    </tr>\n",
       "    <tr>\n",
       "      <th>Southern</th>\n",
       "      <td>58300.0</td>\n",
       "      <td>106000.0</td>\n",
       "    </tr>\n",
       "    <tr>\n",
       "      <th>Western</th>\n",
       "      <td>58100.0</td>\n",
       "      <td>106000.0</td>\n",
       "    </tr>\n",
       "  </tbody>\n",
       "</table>\n",
       "</div>"
      ],
      "text/plain": [
       "              Starting Median Salary  Mid-Career Median Salary\n",
       "Region                                                        \n",
       "California                   75500.0                  123000.0\n",
       "Midwestern                   57100.0                  103000.0\n",
       "Northeastern                 72200.0                  134000.0\n",
       "Southern                     58300.0                  106000.0\n",
       "Western                      58100.0                  106000.0"
      ]
     },
     "execution_count": 112,
     "metadata": {},
     "output_type": "execute_result"
    }
   ],
   "source": [
    "college_region_df.groupby('Region')['Starting Median Salary', 'Mid-Career Median Salary'].max()"
   ]
  },
  {
   "cell_type": "code",
   "execution_count": 119,
   "metadata": {
    "collapsed": true
   },
   "outputs": [],
   "source": [
    "region_max_salary_df = college_region_df.groupby('Region')['Starting Median Salary', 'Mid-Career Median Salary'].max()"
   ]
  },
  {
   "cell_type": "code",
   "execution_count": 144,
   "metadata": {
    "scrolled": true
   },
   "outputs": [],
   "source": [
    "regions = ['California', 'Midwestern','Northeastern','Southern','Western']\n",
    "starting_max_vals = region_max_salary_df['Starting Median Salary'].values\n",
    "midcar_max_vals = region_max_salary_df['Mid-Career Median Salary'].values"
   ]
  },
  {
   "cell_type": "code",
   "execution_count": 195,
   "metadata": {
    "scrolled": true
   },
   "outputs": [
    {
     "data": {
      "text/html": [
       "<div>\n",
       "<style>\n",
       "    .dataframe thead tr:only-child th {\n",
       "        text-align: right;\n",
       "    }\n",
       "\n",
       "    .dataframe thead th {\n",
       "        text-align: left;\n",
       "    }\n",
       "\n",
       "    .dataframe tbody tr th {\n",
       "        vertical-align: top;\n",
       "    }\n",
       "</style>\n",
       "<table border=\"1\" class=\"dataframe\">\n",
       "  <thead>\n",
       "    <tr style=\"text-align: right;\">\n",
       "      <th></th>\n",
       "      <th>School Name</th>\n",
       "      <th>Starting Median Salary</th>\n",
       "      <th>Region</th>\n",
       "    </tr>\n",
       "  </thead>\n",
       "  <tbody>\n",
       "    <tr>\n",
       "      <th>0</th>\n",
       "      <td>California Institute of Technology (CIT)</td>\n",
       "      <td>75500.0</td>\n",
       "      <td>California</td>\n",
       "    </tr>\n",
       "    <tr>\n",
       "      <th>1</th>\n",
       "      <td>University of Missouri - Rolla (UMR)</td>\n",
       "      <td>57100.0</td>\n",
       "      <td>Midwestern</td>\n",
       "    </tr>\n",
       "    <tr>\n",
       "      <th>2</th>\n",
       "      <td>Massachusetts Institute of Technology (MIT)</td>\n",
       "      <td>72200.0</td>\n",
       "      <td>Northeastern</td>\n",
       "    </tr>\n",
       "    <tr>\n",
       "      <th>3</th>\n",
       "      <td>Georgia Institute of Technology</td>\n",
       "      <td>58300.0</td>\n",
       "      <td>Southern</td>\n",
       "    </tr>\n",
       "    <tr>\n",
       "      <th>4</th>\n",
       "      <td>Colorado School of Mines</td>\n",
       "      <td>58100.0</td>\n",
       "      <td>Western</td>\n",
       "    </tr>\n",
       "  </tbody>\n",
       "</table>\n",
       "</div>"
      ],
      "text/plain": [
       "                                   School Name  Starting Median Salary  \\\n",
       "0     California Institute of Technology (CIT)                 75500.0   \n",
       "1         University of Missouri - Rolla (UMR)                 57100.0   \n",
       "2  Massachusetts Institute of Technology (MIT)                 72200.0   \n",
       "3              Georgia Institute of Technology                 58300.0   \n",
       "4                     Colorado School of Mines                 58100.0   \n",
       "\n",
       "         Region  \n",
       "0    California  \n",
       "1    Midwestern  \n",
       "2  Northeastern  \n",
       "3      Southern  \n",
       "4       Western  "
      ]
     },
     "execution_count": 195,
     "metadata": {},
     "output_type": "execute_result"
    }
   ],
   "source": [
    "# Schools with max starting median salary by region \n",
    "\n",
    "max_starting_salary_schools_by_region = []\n",
    "\n",
    "for i, region in enumerate(regions):\n",
    "    \n",
    "    lst = college_region_df.loc[college_region_df.Region==region]\\\n",
    "    [college_region_df.loc[college_region_df.Region==region]['Starting Median Salary']==starting_max_vals[i]]\\\n",
    "    [['School Name','Starting Median Salary', 'Region']]\n",
    "    \n",
    "    max_starting_salary_schools_by_region.append(lst)\n",
    "    \n",
    "pd.concat(max_starting_salary_schools_by_region).reset_index().drop(['index'],axis=1)"
   ]
  },
  {
   "cell_type": "code",
   "execution_count": 207,
   "metadata": {
    "scrolled": true
   },
   "outputs": [
    {
     "data": {
      "text/plain": [
       "<matplotlib.text.Text at 0x1d964e1f198>"
      ]
     },
     "execution_count": 207,
     "metadata": {},
     "output_type": "execute_result"
    },
    {
     "data": {
      "image/png": "[encoded data removed]",
      "text/plain": [
       "<matplotlib.figure.Figure at 0x1d9664c26a0>"
      ]
     },
     "metadata": {},
     "output_type": "display_data"
    }
   ],
   "source": [
    "max_starting_salary_schools_by_region_df = pd.concat(max_starting_salary_schools_by_region).reset_index().drop(['index'],axis=1)\n",
    "\n",
    "plt.figure(figsize=(8,4))\n",
    "sns.barplot(max_starting_salary_schools_by_region_df['Starting Median Salary'], \n",
    "                   max_starting_salary_schools_by_region_df['School Name'], orient='h',\n",
    "                    hue=max_starting_salary_schools_by_region_df['Region'])\n",
    "\n",
    "plt.xlabel('Starting Median Salary')"
   ]
  },
  {
   "cell_type": "code",
   "execution_count": 209,
   "metadata": {},
   "outputs": [
    {
     "data": {
      "text/html": [
       "<div>\n",
       "<style>\n",
       "    .dataframe thead tr:only-child th {\n",
       "        text-align: right;\n",
       "    }\n",
       "\n",
       "    .dataframe thead th {\n",
       "        text-align: left;\n",
       "    }\n",
       "\n",
       "    .dataframe tbody tr th {\n",
       "        vertical-align: top;\n",
       "    }\n",
       "</style>\n",
       "<table border=\"1\" class=\"dataframe\">\n",
       "  <thead>\n",
       "    <tr style=\"text-align: right;\">\n",
       "      <th></th>\n",
       "      <th>School Name</th>\n",
       "      <th>Mid-Career Median Salary</th>\n",
       "      <th>Region</th>\n",
       "    </tr>\n",
       "  </thead>\n",
       "  <tbody>\n",
       "    <tr>\n",
       "      <th>0</th>\n",
       "      <td>California Institute of Technology (CIT)</td>\n",
       "      <td>123000.0</td>\n",
       "      <td>California</td>\n",
       "    </tr>\n",
       "    <tr>\n",
       "      <th>1</th>\n",
       "      <td>Carleton College</td>\n",
       "      <td>103000.0</td>\n",
       "      <td>Midwestern</td>\n",
       "    </tr>\n",
       "    <tr>\n",
       "      <th>2</th>\n",
       "      <td>Dartmouth College</td>\n",
       "      <td>134000.0</td>\n",
       "      <td>Northeastern</td>\n",
       "    </tr>\n",
       "    <tr>\n",
       "      <th>3</th>\n",
       "      <td>Georgia Institute of Technology</td>\n",
       "      <td>106000.0</td>\n",
       "      <td>Southern</td>\n",
       "    </tr>\n",
       "    <tr>\n",
       "      <th>4</th>\n",
       "      <td>Colorado School of Mines</td>\n",
       "      <td>106000.0</td>\n",
       "      <td>Western</td>\n",
       "    </tr>\n",
       "  </tbody>\n",
       "</table>\n",
       "</div>"
      ],
      "text/plain": [
       "                                School Name  Mid-Career Median Salary  \\\n",
       "0  California Institute of Technology (CIT)                  123000.0   \n",
       "1                          Carleton College                  103000.0   \n",
       "2                         Dartmouth College                  134000.0   \n",
       "3           Georgia Institute of Technology                  106000.0   \n",
       "4                  Colorado School of Mines                  106000.0   \n",
       "\n",
       "         Region  \n",
       "0    California  \n",
       "1    Midwestern  \n",
       "2  Northeastern  \n",
       "3      Southern  \n",
       "4       Western  "
      ]
     },
     "execution_count": 209,
     "metadata": {},
     "output_type": "execute_result"
    }
   ],
   "source": [
    "# Schools with max Mid-Career median salary by region \n",
    "\n",
    "max_midcar_salary_schools_by_region = []\n",
    "\n",
    "for i, region in enumerate(regions):\n",
    "    \n",
    "    lst2 = college_region_df.loc[college_region_df.Region==region]\\\n",
    "    [college_region_df.loc[college_region_df.Region==region]['Mid-Career Median Salary']==midcar_max_vals[i]]\\\n",
    "    [['School Name','Mid-Career Median Salary', 'Region']]\n",
    "    \n",
    "    max_midcar_salary_schools_by_region.append(lst2)\n",
    "    \n",
    "pd.concat(max_midcar_salary_schools_by_region).reset_index().drop(['index'],axis=1)"
   ]
  },
  {
   "cell_type": "code",
   "execution_count": 210,
   "metadata": {
    "scrolled": true
   },
   "outputs": [
    {
     "data": {
      "text/plain": [
       "<matplotlib.text.Text at 0x1d96611c518>"
      ]
     },
     "execution_count": 210,
     "metadata": {},
     "output_type": "execute_result"
    },
    {
     "data": {
      "image/png": "[encoded data removed]",
      "text/plain": [
       "<matplotlib.figure.Figure at 0x1d9664d30f0>"
      ]
     },
     "metadata": {},
     "output_type": "display_data"
    }
   ],
   "source": [
    "max_midcar_salary_schools_by_region_df = pd.concat(max_midcar_salary_schools_by_region).reset_index().drop(['index'],axis=1)\n",
    "\n",
    "plt.figure(figsize=(8,4))\n",
    "sns.barplot(max_midcar_salary_schools_by_region_df['Mid-Career Median Salary'], \n",
    "                   max_midcar_salary_schools_by_region_df['School Name'], orient='h',\n",
    "           hue=max_midcar_salary_schools_by_region_df['Region'])\n",
    "\n",
    "plt.xlabel('Mid-Career Median Salary')"
   ]
  }
 ],
 "metadata": {
  "kernelspec": {
   "display_name": "Python 3",
   "language": "python",
   "name": "python3"
  },
  "language_info": {
   "codemirror_mode": {
    "name": "ipython",
    "version": 3
   },
   "file_extension": ".py",
   "mimetype": "text/x-python",
   "name": "python",
   "nbconvert_exporter": "python",
   "pygments_lexer": "ipython3",
   "version": "3.6.1"
  }
 },
 "nbformat": 4,
 "nbformat_minor": 2
}
