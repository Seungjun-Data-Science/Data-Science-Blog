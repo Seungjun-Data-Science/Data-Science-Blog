{
  "cells": [
    {
      "metadata": {
        "_uuid": "0879f520d1d4bb9bec2f112c9d67ce2d2baa1c20"
      },
      "cell_type": "markdown",
      "source": "1. [Read in Data and Import Essential Libraries ](#read)\n2. [Looking at Data](#lookAtData)\n3. [Exploratory Data Analysis (EDA)](#EDA)\n    - 3.1 [Countries with highest \"suicide/100k population rate\" for each age group](#highestsuiciderate)\n    - 3.2 [global suicide rate by gender and by age groups over time](#globalsuiciderateovertime)\n    - 3.3 [differences between countries where people are very likely to commit suicide and countries that are the opposite](#highsuicidevslowsuicide)\n    - 3.4 [Coutries with Aging Population](#agingpop)\n    - 3.5 [countries have high proportion of Millenials?](#highpropmillenials)\n4. [Random Forest Modelling](#rfm)\n    - 4.1 [Feature Importance](#featureimport)\n"
    },
    {
      "metadata": {
        "_uuid": "5b2c404ec235c9d612a2ad89bde57949ef0b3afc"
      },
      "cell_type": "markdown",
      "source": "<a id='read'></a>\n# Read in Data and Import Essential Libraries"
    },
    {
      "metadata": {
        "trusted": true,
        "_uuid": "de199b2832b882ca6ed0f649b1aadef5d350ec8a"
      },
      "cell_type": "code",
      "source": "# This Python 3 environment comes with many helpful analytics libraries installed\n# It is defined by the kaggle/python docker image: https://github.com/kaggle/docker-python\n# For example, here's several helpful packages to load in \n\nimport numpy as np # linear algebra\nimport pandas as pd # data processing, CSV file I/O (e.g. pd.read_csv)\nimport matplotlib.pyplot as plt\nimport seaborn as sns\n\n# Input data files are available in the \"../input/\" directory.\n# For example, running this (by clicking run or pressing Shift+Enter) will list the files in the input directory\n\nimport os\nprint(os.listdir(\"../input\"))\n\n# Any results you write to the current directory are saved as output.",
      "execution_count": null,
      "outputs": []
    },
    {
      "metadata": {
        "trusted": true,
        "_uuid": "9e7a07f5f5cb30b494da09fd31f43584cb05367c"
      },
      "cell_type": "code",
      "source": "# Read in Data\ndf = pd.read_csv(\"../input/master.csv\")",
      "execution_count": null,
      "outputs": []
    },
    {
      "metadata": {
        "_uuid": "e46e2a1c6cad52fbc9016b4ab5433acb63d713df"
      },
      "cell_type": "markdown",
      "source": "<a id='lookAtData'></a> \n# Look at Data"
    },
    {
      "metadata": {
        "trusted": true,
        "_uuid": "b0c5c8b6060e33069f5ff3c7095d26273b1de377"
      },
      "cell_type": "code",
      "source": "# Looking at first five rows of the data\ndf.head()",
      "execution_count": null,
      "outputs": []
    },
    {
      "metadata": {
        "trusted": true,
        "_uuid": "464fb6f2c820dde847874961ed62d248f30a8a43"
      },
      "cell_type": "code",
      "source": "# Basic summary statistics of data\ndf.describe()",
      "execution_count": null,
      "outputs": []
    },
    {
      "metadata": {
        "trusted": true,
        "_uuid": "491046468e96621464670ef1c646d13a692afa64"
      },
      "cell_type": "code",
      "source": "# Number of rows and columns of the dataset\ndf.shape",
      "execution_count": null,
      "outputs": []
    },
    {
      "metadata": {
        "trusted": true,
        "_uuid": "8a95c6187892b746463ac80b7d9decc66b302b00"
      },
      "cell_type": "code",
      "source": "# Checking number of missing data for each column\ndf.isnull().sum()",
      "execution_count": null,
      "outputs": []
    },
    {
      "metadata": {
        "_uuid": "a36ffb57fe627257a89b3a2c665b99d0d60b29e9"
      },
      "cell_type": "markdown",
      "source": "The \"HDI\" column seems to be the only feature that has a lot of missing values. As a side note, HDI stands for Human Development Index. A country scores a higher HDI when the lifespan is higher, the education level is higher, and the GNI per capita is higher."
    },
    {
      "metadata": {
        "_uuid": "df1202a257144cf9f7faabae6c016d28c4c2c67b"
      },
      "cell_type": "markdown",
      "source": "<a id='EDA'></a> \n# Exploratory Data Analysis"
    },
    {
      "metadata": {
        "trusted": true,
        "_uuid": "b2c718082fc191ee68824db40e5897a6eaee5b09"
      },
      "cell_type": "code",
      "source": "# Some aesthetic setting\nplt.style.use('ggplot')\nsns.set_style(\"whitegrid\")",
      "execution_count": null,
      "outputs": []
    },
    {
      "metadata": {
        "_uuid": "f2b77442522edb35af473d3830d42d5d7ce05129"
      },
      "cell_type": "markdown",
      "source": "<a id='highestsuiciderate'></a>\n## Which country has, on average, the highest \"suicide/100k population rate\" for each age group?"
    },
    {
      "metadata": {
        "trusted": true,
        "_uuid": "f7d28e20a19bb9f7d4a4f3b688e39c0db2fa449b"
      },
      "cell_type": "code",
      "source": "# Top 10 countries with highest average suicide rate for each age group\nage_groups = df.age.unique().tolist()\nfor age_group in age_groups: \n    print(\"Top 10 countries with highest average suicide rate for\", age_group)\n    print(pd.DataFrame(df.groupby(['country','age'])['suicides/100k pop'].mean()).reset_index().\\\n    sort_values(['age','suicides/100k pop']).groupby('age').get_group(age_group).\\\n    sort_values('suicides/100k pop', ascending=False).head(10))",
      "execution_count": null,
      "outputs": []
    },
    {
      "metadata": {
        "_uuid": "a5d8c3fca4b42def6383e3ae2014a0aecbc9a3c5"
      },
      "cell_type": "markdown",
      "source": "Central Asian Countries, Eastern European countries and Sri Lanka consistenly appear in the list across different age groups although there are some additions of countries for only certain age groups (e.g. For 75+ years, addition of South Korea)"
    },
    {
      "metadata": {
        "_uuid": "3dc1a516e6e10a074aa5f95ed5d088cd269c8b08"
      },
      "cell_type": "markdown",
      "source": "<a id=\"globalsuiciderateovertime\"></a>\n## Is there a change in global suicide rate by gender and by age groups over time?"
    },
    {
      "metadata": {
        "trusted": true,
        "_uuid": "cd53ce1704d323d94e34e2032e7b11e345763a85"
      },
      "cell_type": "code",
      "source": "f, (ax1,ax2) = plt.subplots(2,1,sharex=True, sharey=True, figsize=(20,8))\n\n# Male\nsns.pointplot(x='year',y='suicides/100k pop',\ndata=pd.DataFrame(df[df.sex=='male'].groupby(['year','age'])['suicides/100k pop'].sum()).reset_index().\\\nsort_values('age'),hue='age',ax=ax1)\n\n# Female\nax2 = sns.pointplot(x='year',y='suicides/100k pop',\ndata=pd.DataFrame(df[df.sex=='female'].groupby(['year','age'])['suicides/100k pop'].sum()).reset_index().\\\nsort_values('age'), hue='age',ax=ax2)",
      "execution_count": null,
      "outputs": []
    },
    {
      "metadata": {
        "_uuid": "43eedcceb34a54d3fee832ab4d73be6a74b16b12"
      },
      "cell_type": "markdown",
      "source": "- Except for 5-14 years age group, sum of male suicide rate around the world is higher than that of females across different age groups\n- There was some major spike in sum of suicide rate for males in the early 1990s \n- For both male and females, the total suicide rates around the world have plummeted considerably in the recent few years"
    },
    {
      "metadata": {
        "_uuid": "6f14dd88c1d580f8a7d9892b67328f06d5a03b6d"
      },
      "cell_type": "markdown",
      "source": "<a id=\"highsuicidevslowsuicide\"></a>\n## What are some differences between countries where people are very likely to commit suicide and countries that are the opposite?"
    },
    {
      "metadata": {
        "_uuid": "daade0dec4c8a3174cb00d4399f64d498e12140d"
      },
      "cell_type": "markdown",
      "source": "We have first identify (or define) which countries have people who are very likely to commit suicide. I will define them as countries which are included in the list for top10 countries for all 4 metrics: mean suicide number, total suicide number, mean suicides/100k pop and total suicides/100k pop. The countries less prone to suicide will be the countries included in the list for bottom 10 countries for the same 4 metrics."
    },
    {
      "metadata": {
        "trusted": true,
        "_uuid": "e95beb1d62ea8342f9470d1fbfb35e2221075654"
      },
      "cell_type": "code",
      "source": "pd.Series(df.groupby(['country']).suicides_no.mean().sort_values(ascending=False).head(10).index.tolist() + \\\ndf.groupby(['country']).suicides_no.sum().sort_values(ascending=False).head(10).index.tolist() + \\\ndf.groupby(['country'])['suicides/100k pop'].mean().sort_values(ascending=False).head(10).index.tolist() + \\\ndf.groupby(['country'])['suicides/100k pop'].sum().sort_values(ascending=False).head(10).index.tolist()).value_counts()",
      "execution_count": null,
      "outputs": []
    },
    {
      "metadata": {
        "_uuid": "6615fd337d1d1895572d27b33c0ae29ea521027b"
      },
      "cell_type": "markdown",
      "source": "Ukraine and Russia are the countries most prone to suicide"
    },
    {
      "metadata": {
        "trusted": true,
        "_uuid": "7132f2b565b1284586a1b139c30d5bcd8d3964b4"
      },
      "cell_type": "code",
      "source": "pd.Series(df.groupby(['country']).suicides_no.mean().sort_values().head(10).index.tolist() + \\\ndf.groupby(['country']).suicides_no.sum().sort_values().head(10).index.tolist() + \\\ndf.groupby(['country'])['suicides/100k pop'].mean().sort_values().head(10).index.tolist() + \\\ndf.groupby(['country'])['suicides/100k pop'].sum().sort_values().head(10).index.tolist()).value_counts()",
      "execution_count": null,
      "outputs": []
    },
    {
      "metadata": {
        "_uuid": "af073d1f72134efb9d11dff10016cb887a3438ce"
      },
      "cell_type": "markdown",
      "source": "Maldives and Saint Kitts and Nevis are the countries with the happiest(?) people less likely to commit suicide"
    },
    {
      "metadata": {
        "_uuid": "d2f5402b5ea8a4c4336c9d946171ae0f7ca87c4d"
      },
      "cell_type": "markdown",
      "source": "Let's now compare these two sets of countries and how they are different"
    },
    {
      "metadata": {
        "trusted": true,
        "_uuid": "534262bb91bf078b10b0f9d31087ec414ca0078f"
      },
      "cell_type": "code",
      "source": "# High suicide rate countries (hsrc)\ndf_hsrc = df[df.country.isin(['Ukraine','Russian Federation'])]\n\n# Low suicide rate countries (lsrc)\ndf_lsrc = df[df.country.isin(['Maldives','Saint Kitts and Nevis'])]",
      "execution_count": null,
      "outputs": []
    },
    {
      "metadata": {
        "trusted": true,
        "_uuid": "659cab10add3595dcfd8933f0f793b70771d44f9"
      },
      "cell_type": "code",
      "source": "# High suicide rate countries (hsrc) gdp_per_capita summary statistics\ndf_hsrc[['country','gdp_per_capita ($)']].groupby('country').describe()",
      "execution_count": null,
      "outputs": []
    },
    {
      "metadata": {
        "trusted": true,
        "_uuid": "855edc6541c03a2df8e576cb332cf589f1a05114"
      },
      "cell_type": "code",
      "source": "# Low suicide rate countries (lsrc) gdp_per_capita summary statistics\ndf_lsrc[['country','gdp_per_capita ($)']].groupby('country').describe()",
      "execution_count": null,
      "outputs": []
    },
    {
      "metadata": {
        "trusted": true,
        "_uuid": "217566d2ab091e7a13af7b1abe6a6cff6ad4166b"
      },
      "cell_type": "code",
      "source": "# gdp_per_capita summary statistics of all 4 countries combined\ndf_hsrc[['country','gdp_per_capita ($)']].groupby('country').describe().\\\nappend(df_lsrc[['country','gdp_per_capita ($)']].groupby('country').describe())",
      "execution_count": null,
      "outputs": []
    },
    {
      "metadata": {
        "_uuid": "9062adc4478197d168f3fdfe2f5fea13124efd3f"
      },
      "cell_type": "markdown",
      "source": "There is not much information about each of the country, so I referred the International Labour Organization(ILO) Database for extra info."
    },
    {
      "metadata": {
        "_uuid": "03192409aa71f0c48246067a08a6a7e9a548db5d"
      },
      "cell_type": "markdown",
      "source": "[International Labour Organization(ILO) Database](https://www.ilo.org/ilostat/faces/oracle/webcenter/portalapp/pagehierarchy/Page21.jspx?_afrLoop=1118754007519581&_afrWindowMode=0&_afrWindowId=null#!%40%40%3F_afrWindowId%3Dnull%26_afrLoop%3D1118754007519581%26_afrWindowMode%3D0%26_adf.ctrl-state%3D11sex41g62_13)\n\n- Maldives\n    * Labor force participation rate 47.3%\n    * Labor force participation rate men 73.2%\n    * Labor force participation rate women 21.2%\n    * Employment to population ratio 42%\n    * Unemployment rate 11.2%\n    * Youth unemployment rate 17.6%\n    * share of employees working more than 48 hours per week 36.9%\n    * percentage of health care expenditure not financed by private households' out of pocket payments 20.6%\n\n- Saint Kitts and Nevis\n    * Other metrics not available\n    * percentage of health care expenditure not financed by private households' out of pocket payments 58.2%\n\n- Russia \n    * Labor force participation rate 62.8%\n    * Labor force participation rate men 71.3%\n    * Labor force participation rate women 55.7%\n    * Employment to population ratio 59.5%\n    * Unemployment rate 5.2%\n    * Youth unemployment rate 16.3%\n    * share of employees working more than 48 hours per week 2.2%\n    * percentage of health care expenditure not financed by private households' out of pocket payments 64.6%\n\n- Ukraine \n    * Labor force participation rate 62.0%\n    * Labor force participation rate men 62.0%\n    * Labor force participation rate women 69.0%\n    * Employment to population ratio 56.7%\n    * Unemployment rate 9.5%\n    * Youth unemployment rate 18.9%\n    * share of employees working more than 48 hours per week 3.3%\n    * percentage of health care expenditure not financed by private households' out of pocket payments 58.5%"
    },
    {
      "metadata": {
        "_uuid": "94fdf54066b65387433975a4889d2dfdbb7f70eb"
      },
      "cell_type": "markdown",
      "source": "Of course, we selected only two countries from each group, so there is nothing to conclude about the causality or even the correlation between various socioeconomic factors (e.g unemployment rate, HDI etc) and likelihood of citizens of that country committing suicide. But through EDA like this, we can at least get a sneak peek into what kind of attributes some of the high/low suicide rate countries have. At least for these two sets of countries, high suicide rate countries (Russia, Ukraine) seem to have overwhelmingly better records for all socioeconomic factors (e.g. lower unemployment rate, higher labor participation rate, lower share of unemployees working over time, higher percentage of health care expenditure not financed by private households' out of pocket payments etc.) than low suicide rate countries (e.g. Maldives, Saint Kitts and Nevis). Maybe the cause of higher suicide rate lies in other factors?"
    },
    {
      "metadata": {
        "trusted": true,
        "_uuid": "02f88d854e27da5c9c5ad635496eb368d2dbfe2d"
      },
      "cell_type": "markdown",
      "source": "<a id=\"agingpop\"></a>\n## Which countries having an aging population in 2014?"
    },
    {
      "metadata": {
        "trusted": true,
        "scrolled": false,
        "_uuid": "38a44ed19638a6955b694af09edb4da81b1c71e2"
      },
      "cell_type": "code",
      "source": "# Proportion of citizens who are 55 years old or older (Top 10)\ndf[df.year==2014].sort_values('age').groupby(['country','age']).population.sum().\\\ngroupby('country').apply(lambda x: (x[3]+x[4])/sum(x)).sort_values(ascending=False).head(10).plot('bar')",
      "execution_count": null,
      "outputs": []
    },
    {
      "metadata": {
        "_uuid": "63aacb221434d6b3b305a76aaba124478dfbec5d"
      },
      "cell_type": "markdown",
      "source": "We see a lot of European countries are topping the list with the exception of Japan. Of course, this was 5 years ago, so things are different now (e.g. more Asian countries experiencing population aging etc)"
    },
    {
      "metadata": {
        "_uuid": "625fb693d995744ecc8e73d7f83ce5f97549baa8"
      },
      "cell_type": "markdown",
      "source": "<a id=\"highpropmillenials\"></a>\n## Which countries have high proportion of Millenials? (YOUNG countries~~)"
    },
    {
      "metadata": {
        "trusted": true,
        "_uuid": "efc64e5c6bb33968c8eac0a76c910afaeb53266d"
      },
      "cell_type": "code",
      "source": "# Proportion of Millenials of each country in 2014 (Top 10)\ndf[df.year==2014].groupby(['country','generation']).population.sum().groupby('country').\\\napply(lambda x: x[3]*100/sum(x)).sort_values(ascending=False).head(10).plot('bar')",
      "execution_count": null,
      "outputs": []
    },
    {
      "metadata": {
        "_uuid": "3acddc935e0ae83e3c7ba2b8cce500b4dab979d8"
      },
      "cell_type": "markdown",
      "source": "Contrary to the list of coutries with high proportions of elderly citizens, we see more countries from Asia and Central/South America from this list of countries with high proportions of Millenials"
    },
    {
      "metadata": {
        "trusted": true,
        "_uuid": "6e8e74c462554644d3e72b206f81659a93ee0090"
      },
      "cell_type": "code",
      "source": "# Top 6 countries with highest proportions of millenials in 2014\ntop6_millenial_countries = \\\ndf[df.year==2014][df[df.year==2014].country.isin(df[df.year==2014].groupby(['country','generation']).population.sum().groupby('country').\\\napply(lambda x: x[3]*100/sum(x)).sort_values(ascending=False).head(6).index.tolist())]",
      "execution_count": null,
      "outputs": []
    },
    {
      "metadata": {
        "trusted": true,
        "_uuid": "628827f5de536412a4992012005a2a4835aff497"
      },
      "cell_type": "code",
      "source": "top6_millenial_countries.head()",
      "execution_count": null,
      "outputs": []
    },
    {
      "metadata": {
        "trusted": true,
        "_uuid": "e36f94513d055d680eef58f10d36b4b5dcf7e005"
      },
      "cell_type": "code",
      "source": "# Percentage of each generation of top 6 countries with highest proportion of millenials\nf, ((ax1, ax2,ax3), (ax4, ax5, ax6)) = plt.subplots(2,3, figsize=(10,7))\naxes=[(ax1,'Bahrain'),(ax2,'Grenada'),(ax3,'Guatemala'),(ax4,'Oman'),(ax5,'Qatar'),(ax6,'Uzbekistan')]\n\nfor ax in axes:\n    ax[0].set_title(ax[1])\n    ax[0].pie(top6_millenial_countries[top6_millenial_countries.country==ax[1]].groupby('generation').population.sum(),\n        labels=['Boomers', 'Generation X', 'Generation Z', 'Millenials', 'Silent'], autopct='%1.1f%%', \n        startangle = 150)\n    plt.axis('equal')\nplt.tight_layout()",
      "execution_count": null,
      "outputs": []
    },
    {
      "metadata": {
        "trusted": true,
        "_uuid": "16aaf9336a2259f6e9bc9255966984f3eab50b3a"
      },
      "cell_type": "markdown",
      "source": "<a id=\"rfm\"></a>\n# Random Forest Modelling"
    },
    {
      "metadata": {
        "_uuid": "1c8e43fa6957174b9b1701da43cca03c04526db7"
      },
      "cell_type": "markdown",
      "source": "Let's say you want to be able to explain which factors are influential to the number of suicides. You can set the \"number of suicides\" as your target variable(y) and the remaining variables as your predictor variables(x). "
    },
    {
      "metadata": {
        "_uuid": "99bc036363c6c38ae51131be086516d7a9655616"
      },
      "cell_type": "markdown",
      "source": "Let's drop HDI for now since it has too many missing values"
    },
    {
      "metadata": {
        "trusted": true,
        "_uuid": "63dc6393a3af66605eb0313ce015a8573ec43f1b"
      },
      "cell_type": "code",
      "source": "df.drop('HDI for year',axis=1, inplace=True)",
      "execution_count": null,
      "outputs": []
    },
    {
      "metadata": {
        "trusted": true,
        "_uuid": "1276775353135eca8357caa06d01e5bf78697d72"
      },
      "cell_type": "code",
      "source": "# Checking for missing values\ndf.isnull().sum()",
      "execution_count": null,
      "outputs": []
    },
    {
      "metadata": {
        "_uuid": "bcd14197fe62fd68bb988a7e1fb3c5c4b0d6a4cd"
      },
      "cell_type": "markdown",
      "source": "Most of the algorithms spit out errors if you have nan values in your data. Thus, it is crucial for you too check if there are any missing values left and fill them in using various methods (e.g. filling in with mean/median value, using regression to extrapolate the missing values etc)"
    },
    {
      "metadata": {
        "trusted": true,
        "_uuid": "39fdd5ee477966dfd6144288e554b28e24a4ca15"
      },
      "cell_type": "markdown",
      "source": "Next important step is to make sure all the categorical variables are encoded so that all data values are numerical! Except for algorithms like Catboost, most algorithms in sklearn require users to change categorical variables into numbers"
    },
    {
      "metadata": {
        "trusted": true,
        "_uuid": "ab1c878fcd840eed612656ed4f96b9d6f2add433"
      },
      "cell_type": "code",
      "source": "# Checking data types\ndf.info()",
      "execution_count": null,
      "outputs": []
    },
    {
      "metadata": {
        "trusted": true,
        "_uuid": "98e9fc774083bd59cf9b62d2989048351a8036bd"
      },
      "cell_type": "code",
      "source": "# Remove commas in strings\ndf[' gdp_for_year ($) '] = df[' gdp_for_year ($) '].str.replace(\",\", \"\")\n\n# Change string to numbers\ndf[' gdp_for_year ($) '] = pd.to_numeric(df[' gdp_for_year ($) '])",
      "execution_count": null,
      "outputs": []
    },
    {
      "metadata": {
        "trusted": true,
        "_uuid": "d4bb76852c990462ff3f6780c2e54de42f9dd83a"
      },
      "cell_type": "code",
      "source": "# Encoding of cat variables with LabelEncoder\nfrom sklearn.preprocessing import LabelEncoder\nle = LabelEncoder()\n\nfor x in ['country','sex','age','country-year','generation']:\n    df[x] = le.fit_transform(df[x])",
      "execution_count": null,
      "outputs": []
    },
    {
      "metadata": {
        "_uuid": "0ad1f23b290f0a04d16fd32e34a241bfbe6e9d17"
      },
      "cell_type": "markdown",
      "source": "Decision Tree is a tree that splits at different features of the dataset for every data point. If a certain feature was used more frequently to split and make a decision (e.g classification of a data point), it means that feature is a important one in determining the value or class of data points you want to predict. For this reason, trees and forest algorithms can be used to determine  feature importance. Refer to the below picture!"
    },
    {
      "metadata": {
        "_uuid": "c2d76d949b3a5b25cd95c5ed9a6d2f21fa1abd6c"
      },
      "cell_type": "markdown",
      "source": "![](https://cdn-images-1.medium.com/max/1600/1*TlTzgt8I_5dUSbMZmRKyqQ.jpeg)"
    },
    {
      "metadata": {
        "_uuid": "5d6af22355c550d39275cc9f49b79d47888bc384"
      },
      "cell_type": "markdown",
      "source": "Forest is basically a conglomerate of trees! Random forest algorithm combines numerous decisions trees and thereby reduces overfitting (a phenomenon where the model performs extremely well for training data but doesn't for unseen new data). Random Forest also works very well for both categorical and numerical variables!"
    },
    {
      "metadata": {
        "_uuid": "66569409734347e2d1d7ba57868e9b6b2700f02a"
      },
      "cell_type": "markdown",
      "source": "![](https://cdn-images-1.medium.com/max/1000/1*i0o8mjFfCn-uD79-F1Cqkw.png)"
    },
    {
      "metadata": {
        "trusted": true,
        "_uuid": "5e57632fc6fcd841f0a7557333e36e1d1815366b"
      },
      "cell_type": "code",
      "source": "# Split dataset into X and y\ny = df[['suicides_no']].values\nX = df.drop('suicides_no',axis=1).values",
      "execution_count": null,
      "outputs": []
    },
    {
      "metadata": {
        "trusted": true,
        "_uuid": "a11f5c14b2a1723edefd019eba35277875c1611f"
      },
      "cell_type": "code",
      "source": "from sklearn.model_selection import cross_val_score\nfrom sklearn.ensemble import RandomForestRegressor",
      "execution_count": null,
      "outputs": []
    },
    {
      "metadata": {
        "trusted": true,
        "scrolled": false,
        "_uuid": "55c19a540ba3615258ad055632994846715d70d1"
      },
      "cell_type": "code",
      "source": "from sklearn.metrics import mean_squared_error, make_scorer\nrfr = RandomForestRegressor(random_state=42)\n\n# Average RMSE of 5 fold cross validation\ncross_val_score(rfr, X, y, cv=5).mean()",
      "execution_count": null,
      "outputs": []
    },
    {
      "metadata": {
        "_uuid": "c15ffd54ed924f6b1afb3ef8f262af7afb778af8"
      },
      "cell_type": "markdown",
      "source": "<a id=\"featureimport\"></a>\n## Feature Importance"
    },
    {
      "metadata": {
        "trusted": true,
        "_uuid": "e7e61e869fa0bc37c8676c83bd2e781efcb26927"
      },
      "cell_type": "code",
      "source": "import eli5\nfrom eli5.sklearn import PermutationImportance\n\nperm = PermutationImportance(rfr.fit(X,y), random_state=42).fit(X, y)\neli5.show_weights(perm, feature_names = df.drop('suicides_no',axis=1).columns.tolist(),top=10)",
      "execution_count": null,
      "outputs": []
    },
    {
      "metadata": {
        "_uuid": "839f43438c02826b11315589e7ab6c8c14104d74"
      },
      "cell_type": "markdown",
      "source": "As you can see above, the features that are marked positive are features that have a positive influential relationship with the target variable(y). In this case, they are population and the suicide rate. Since we don't have that many informative & useful features in the first place, there is not much to get out from this but at least the results make sense because country will bigger population is more likely to have more frequent suicide occurences (simply because there are more peopel available to kill themselves)."
    },
    {
      "metadata": {
        "trusted": true,
        "_uuid": "f267a076b4eb64111948f65ad434138e2ee8fd6f"
      },
      "cell_type": "markdown",
      "source": "## ** Please consider upvoting this kernel if you liked it :) **"
    }
  ],
  "metadata": {
    "kernelspec": {
      "display_name": "Python 3",
      "language": "python",
      "name": "python3"
    },
    "language_info": {
      "name": "python",
      "version": "3.6.6",
      "mimetype": "text/x-python",
      "codemirror_mode": {
        "name": "ipython",
        "version": 3
      },
      "pygments_lexer": "ipython3",
      "nbconvert_exporter": "python",
      "file_extension": ".py"
    }
  },
  "nbformat": 4,
  "nbformat_minor": 1
}