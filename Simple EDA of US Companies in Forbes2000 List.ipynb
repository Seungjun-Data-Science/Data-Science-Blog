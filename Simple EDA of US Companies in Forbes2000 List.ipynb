{
 "cells": [
  {
   "cell_type": "markdown",
   "metadata": {},
   "source": [
    "From the Forbes Global 2000 list updated on May 2013. Weighs sales, profits, assets and market value equally so companies can be ranked by size. Figures for all companies are in US dollars. Extracted only US companies from the 2000 company list"
   ]
  },
  {
   "cell_type": "code",
   "execution_count": 1,
   "metadata": {
    "collapsed": true
   },
   "outputs": [],
   "source": [
    "import pandas as pd\n",
    "import numpy as np\n",
    "import matplotlib.pyplot as plt\n",
    "import seaborn as sns\n",
    "%matplotlib inline"
   ]
  },
  {
   "cell_type": "code",
   "execution_count": 2,
   "metadata": {
    "scrolled": true
   },
   "outputs": [
    {
     "data": {
      "text/html": [
       "<div>\n",
       "<style>\n",
       "    .dataframe thead tr:only-child th {\n",
       "        text-align: right;\n",
       "    }\n",
       "\n",
       "    .dataframe thead th {\n",
       "        text-align: left;\n",
       "    }\n",
       "\n",
       "    .dataframe tbody tr th {\n",
       "        vertical-align: top;\n",
       "    }\n",
       "</style>\n",
       "<table border=\"1\" class=\"dataframe\">\n",
       "  <thead>\n",
       "    <tr style=\"text-align: right;\">\n",
       "      <th></th>\n",
       "      <th>Global Rank</th>\n",
       "      <th>Company</th>\n",
       "      <th>Sales ($billion)</th>\n",
       "      <th>Profits ($billion)</th>\n",
       "      <th>Assets ($billion)</th>\n",
       "      <th>Market Value ($billion)</th>\n",
       "    </tr>\n",
       "  </thead>\n",
       "  <tbody>\n",
       "    <tr>\n",
       "      <th>0</th>\n",
       "      <td>3</td>\n",
       "      <td>JPMorgan Chase</td>\n",
       "      <td>108.2</td>\n",
       "      <td>21.3</td>\n",
       "      <td>2359.1</td>\n",
       "      <td>191.4</td>\n",
       "    </tr>\n",
       "    <tr>\n",
       "      <th>1</th>\n",
       "      <td>4</td>\n",
       "      <td>General Electric</td>\n",
       "      <td>147.4</td>\n",
       "      <td>13.6</td>\n",
       "      <td>685.3</td>\n",
       "      <td>243.7</td>\n",
       "    </tr>\n",
       "    <tr>\n",
       "      <th>2</th>\n",
       "      <td>5</td>\n",
       "      <td>Exxon Mobil</td>\n",
       "      <td>420.7</td>\n",
       "      <td>44.9</td>\n",
       "      <td>333.8</td>\n",
       "      <td>400.4</td>\n",
       "    </tr>\n",
       "    <tr>\n",
       "      <th>3</th>\n",
       "      <td>9</td>\n",
       "      <td>Berkshire Hathaway</td>\n",
       "      <td>162.5</td>\n",
       "      <td>14.8</td>\n",
       "      <td>427.5</td>\n",
       "      <td>252.8</td>\n",
       "    </tr>\n",
       "    <tr>\n",
       "      <th>4</th>\n",
       "      <td>12</td>\n",
       "      <td>Wells Fargo</td>\n",
       "      <td>91.2</td>\n",
       "      <td>18.9</td>\n",
       "      <td>1423.0</td>\n",
       "      <td>201.3</td>\n",
       "    </tr>\n",
       "  </tbody>\n",
       "</table>\n",
       "</div>"
      ],
      "text/plain": [
       "   Global Rank\\t           Company\\t  Sales ($billion)\\t  \\\n",
       "0              3      JPMorgan Chase               108.2   \n",
       "1              4    General Electric               147.4   \n",
       "2              5         Exxon Mobil               420.7   \n",
       "3              9  Berkshire Hathaway               162.5   \n",
       "4             12         Wells Fargo                91.2   \n",
       "\n",
       "   Profits ($billion)\\t  Assets ($billion)\\t  Market Value ($billion)  \n",
       "0                  21.3               2359.1                    191.4  \n",
       "1                  13.6                685.3                    243.7  \n",
       "2                  44.9                333.8                    400.4  \n",
       "3                  14.8                427.5                    252.8  \n",
       "4                  18.9               1423.0                    201.3  "
      ]
     },
     "execution_count": 2,
     "metadata": {},
     "output_type": "execute_result"
    }
   ],
   "source": [
    "data = pd.read_csv('USA_largest_companies.csv')\n",
    "\n",
    "data.head()"
   ]
  },
  {
   "cell_type": "code",
   "execution_count": 4,
   "metadata": {
    "collapsed": true
   },
   "outputs": [],
   "source": [
    "# Making column labels neat\n",
    "\n",
    "data.columns = ['Global Rank', 'Company', 'Sales',\n",
    "       'Profits', 'Assets',\n",
    "       'Market Value']"
   ]
  },
  {
   "cell_type": "markdown",
   "metadata": {},
   "source": [
    "### Global Rankings of US Companies"
   ]
  },
  {
   "cell_type": "code",
   "execution_count": 75,
   "metadata": {
    "scrolled": true
   },
   "outputs": [
    {
     "data": {
      "text/plain": [
       "<matplotlib.axes._subplots.AxesSubplot at 0x20f55276b00>"
      ]
     },
     "execution_count": 75,
     "metadata": {},
     "output_type": "execute_result"
    },
    {
     "data": {
      "image/png": "[encoded data removed]",
      "text/plain": [
       "<matplotlib.figure.Figure at 0x20f54fc1438>"
      ]
     },
     "metadata": {},
     "output_type": "display_data"
    }
   ],
   "source": [
    "# Distribution of Global Rankings of US Companies\n",
    "\n",
    "sns.distplot(data['Global Rank'])"
   ]
  },
  {
   "cell_type": "markdown",
   "metadata": {},
   "source": [
    "It's spread over pretty evenly but the distribution is a bit unimodal at the 0~500 rank bin. Let's examine this with more granular bins"
   ]
  },
  {
   "cell_type": "code",
   "execution_count": 69,
   "metadata": {},
   "outputs": [],
   "source": [
    "data['Global Rank Bin'] = pd.cut(data['Global Rank'], 20, include_lowest =True)"
   ]
  },
  {
   "cell_type": "code",
   "execution_count": 71,
   "metadata": {},
   "outputs": [
    {
     "data": {
      "text/plain": [
       "Global Rank Bin\n",
       "(1.003, 102.8]      33\n",
       "(102.8, 202.6]      34\n",
       "(202.6, 302.4]      32\n",
       "(302.4, 402.2]      35\n",
       "(402.2, 502.0]      26\n",
       "(502.0, 601.8]      27\n",
       "(601.8, 701.6]      21\n",
       "(701.6, 801.4]      27\n",
       "(801.4, 901.2]      28\n",
       "(901.2, 1001.0]     25\n",
       "(1001.0, 1100.8]    27\n",
       "(1100.8, 1200.6]    25\n",
       "(1200.6, 1300.4]    25\n",
       "(1300.4, 1400.2]    28\n",
       "(1400.2, 1500.0]    27\n",
       "(1500.0, 1599.8]    20\n",
       "(1599.8, 1699.6]    23\n",
       "(1699.6, 1799.4]    24\n",
       "(1799.4, 1899.2]    21\n",
       "(1899.2, 1999.0]    27\n",
       "dtype: int64"
      ]
     },
     "execution_count": 71,
     "metadata": {},
     "output_type": "execute_result"
    }
   ],
   "source": [
    "data.groupby('Global Rank Bin').size()"
   ]
  },
  {
   "cell_type": "code",
   "execution_count": 73,
   "metadata": {},
   "outputs": [
    {
     "data": {
      "text/plain": [
       "<matplotlib.axes._subplots.AxesSubplot at 0x20f54f85f60>"
      ]
     },
     "execution_count": 73,
     "metadata": {},
     "output_type": "execute_result"
    },
    {
     "data": {
      "image/png": "[encoded data removed]",
      "text/plain": [
       "<matplotlib.figure.Figure at 0x20f54f899b0>"
      ]
     },
     "metadata": {},
     "output_type": "display_data"
    }
   ],
   "source": [
    "sns.barplot(data.groupby('Global Rank Bin').size().values, data.groupby('Global Rank Bin').size().index, orient='h')"
   ]
  },
  {
   "cell_type": "code",
   "execution_count": 80,
   "metadata": {},
   "outputs": [
    {
     "data": {
      "text/plain": [
       "0.18504672897196262"
      ]
     },
     "execution_count": 80,
     "metadata": {},
     "output_type": "execute_result"
    }
   ],
   "source": [
    "# Number of US companies in 1~300 rank / Total Number of US companies included in Forbes2000\n",
    "\n",
    "data.groupby('Global Rank Bin').size().values[:3].sum() /data.groupby('Global Rank Bin').size().values.sum() "
   ]
  },
  {
   "cell_type": "markdown",
   "metadata": {},
   "source": [
    "A more granular observation of the distribution with smaller sized bins suggests similar things. The distribution is overall even but we can see that the top 3 bin with the biggest number of companies are the first three bins from 1st place to 302nd place. More specifically, about 18% of US corporations that were included in Forbes2000 ranked within 300th place. That's impressive."
   ]
  },
  {
   "cell_type": "markdown",
   "metadata": {},
   "source": [
    "### Looking at Sales and Profits"
   ]
  },
  {
   "cell_type": "code",
   "execution_count": 15,
   "metadata": {},
   "outputs": [],
   "source": [
    "top10_sales = data.sort_values('Sales',ascending=False).head(10).Company.values.tolist()\n",
    "top10_profits = data.sort_values('Profits', ascending=False).head(10).Company.values.tolist()"
   ]
  },
  {
   "cell_type": "code",
   "execution_count": 19,
   "metadata": {
    "collapsed": true
   },
   "outputs": [],
   "source": [
    "top10_df = pd.DataFrame([top10_sales,top10_profits], index=['Top 10 Sales', 'Top 10 Profits'])"
   ]
  },
  {
   "cell_type": "code",
   "execution_count": 20,
   "metadata": {},
   "outputs": [
    {
     "data": {
      "text/html": [
       "<div>\n",
       "<style>\n",
       "    .dataframe thead tr:only-child th {\n",
       "        text-align: right;\n",
       "    }\n",
       "\n",
       "    .dataframe thead th {\n",
       "        text-align: left;\n",
       "    }\n",
       "\n",
       "    .dataframe tbody tr th {\n",
       "        vertical-align: top;\n",
       "    }\n",
       "</style>\n",
       "<table border=\"1\" class=\"dataframe\">\n",
       "  <thead>\n",
       "    <tr style=\"text-align: right;\">\n",
       "      <th></th>\n",
       "      <th>0</th>\n",
       "      <th>1</th>\n",
       "      <th>2</th>\n",
       "      <th>3</th>\n",
       "      <th>4</th>\n",
       "      <th>5</th>\n",
       "      <th>6</th>\n",
       "      <th>7</th>\n",
       "      <th>8</th>\n",
       "      <th>9</th>\n",
       "    </tr>\n",
       "  </thead>\n",
       "  <tbody>\n",
       "    <tr>\n",
       "      <th>Top 10 Sales</th>\n",
       "      <td>Wal-Mart Stores</td>\n",
       "      <td>Exxon Mobil</td>\n",
       "      <td>Chevron</td>\n",
       "      <td>Phillips 66</td>\n",
       "      <td>Apple</td>\n",
       "      <td>Berkshire Hathaway</td>\n",
       "      <td>General Motors</td>\n",
       "      <td>General Electric</td>\n",
       "      <td>Valero Energy</td>\n",
       "      <td>Ford Motor</td>\n",
       "    </tr>\n",
       "    <tr>\n",
       "      <th>Top 10 Profits</th>\n",
       "      <td>Exxon Mobil</td>\n",
       "      <td>Apple</td>\n",
       "      <td>Chevron</td>\n",
       "      <td>JPMorgan Chase</td>\n",
       "      <td>Wells Fargo</td>\n",
       "      <td>Wal-Mart Stores</td>\n",
       "      <td>IBM</td>\n",
       "      <td>Microsoft</td>\n",
       "      <td>Berkshire Hathaway</td>\n",
       "      <td>Pfizer</td>\n",
       "    </tr>\n",
       "  </tbody>\n",
       "</table>\n",
       "</div>"
      ],
      "text/plain": [
       "                              0            1        2               3  \\\n",
       "Top 10 Sales    Wal-Mart Stores  Exxon Mobil  Chevron     Phillips 66   \n",
       "Top 10 Profits      Exxon Mobil        Apple  Chevron  JPMorgan Chase   \n",
       "\n",
       "                          4                   5               6  \\\n",
       "Top 10 Sales          Apple  Berkshire Hathaway  General Motors   \n",
       "Top 10 Profits  Wells Fargo     Wal-Mart Stores             IBM   \n",
       "\n",
       "                               7                   8           9  \n",
       "Top 10 Sales    General Electric       Valero Energy  Ford Motor  \n",
       "Top 10 Profits         Microsoft  Berkshire Hathaway      Pfizer  "
      ]
     },
     "execution_count": 20,
     "metadata": {},
     "output_type": "execute_result"
    }
   ],
   "source": [
    "top10_df"
   ]
  },
  {
   "cell_type": "markdown",
   "metadata": {},
   "source": [
    "Top 10 Sales list and Top 10 Profits list look quite different. Wal-Mart had the biggest sales but went down to 6th place for profits. Companies like JP Morgan Chase, Wells Fargo, Microsoft and Pfizer weren't included in the top 10 list for sales but were included for the top 10 profits list. What's up with this phenomenon? This means just having great sales doesn't always lead to greater profits. Profits = Revenue - Costs, so finding the right amount of sales that maximize revenue but minimize costs is important for companies!"
   ]
  },
  {
   "cell_type": "markdown",
   "metadata": {},
   "source": [
    "### Assets and Market Value"
   ]
  },
  {
   "cell_type": "code",
   "execution_count": 56,
   "metadata": {
    "scrolled": true
   },
   "outputs": [
    {
     "data": {
      "text/html": [
       "<div>\n",
       "<style>\n",
       "    .dataframe thead tr:only-child th {\n",
       "        text-align: right;\n",
       "    }\n",
       "\n",
       "    .dataframe thead th {\n",
       "        text-align: left;\n",
       "    }\n",
       "\n",
       "    .dataframe tbody tr th {\n",
       "        vertical-align: top;\n",
       "    }\n",
       "</style>\n",
       "<table border=\"1\" class=\"dataframe\">\n",
       "  <thead>\n",
       "    <tr style=\"text-align: right;\">\n",
       "      <th></th>\n",
       "      <th>0</th>\n",
       "      <th>1</th>\n",
       "      <th>2</th>\n",
       "      <th>3</th>\n",
       "      <th>4</th>\n",
       "      <th>5</th>\n",
       "      <th>6</th>\n",
       "      <th>7</th>\n",
       "      <th>8</th>\n",
       "      <th>9</th>\n",
       "    </tr>\n",
       "  </thead>\n",
       "  <tbody>\n",
       "    <tr>\n",
       "      <th>Top 10 Sales</th>\n",
       "      <td>Wal-Mart Stores</td>\n",
       "      <td>Exxon Mobil</td>\n",
       "      <td>Chevron</td>\n",
       "      <td>Phillips 66</td>\n",
       "      <td>Apple</td>\n",
       "      <td>Berkshire Hathaway</td>\n",
       "      <td>General Motors</td>\n",
       "      <td>General Electric</td>\n",
       "      <td>Valero Energy</td>\n",
       "      <td>Ford Motor</td>\n",
       "    </tr>\n",
       "    <tr>\n",
       "      <th>Top 10 Profits</th>\n",
       "      <td>Exxon Mobil</td>\n",
       "      <td>Apple</td>\n",
       "      <td>Chevron</td>\n",
       "      <td>JPMorgan Chase</td>\n",
       "      <td>Wells Fargo</td>\n",
       "      <td>Wal-Mart Stores</td>\n",
       "      <td>IBM</td>\n",
       "      <td>Microsoft</td>\n",
       "      <td>Berkshire Hathaway</td>\n",
       "      <td>Pfizer</td>\n",
       "    </tr>\n",
       "    <tr>\n",
       "      <th>Top 10 Assets</th>\n",
       "      <td>Fannie Mae</td>\n",
       "      <td>JPMorgan Chase</td>\n",
       "      <td>Bank of America</td>\n",
       "      <td>Freddie Mac</td>\n",
       "      <td>Citigroup</td>\n",
       "      <td>Wells Fargo</td>\n",
       "      <td>Goldman Sachs Group</td>\n",
       "      <td>MetLife</td>\n",
       "      <td>Morgan Stanley</td>\n",
       "      <td>Prudential Financial</td>\n",
       "    </tr>\n",
       "    <tr>\n",
       "      <th>Top 10 Market Value</th>\n",
       "      <td>Apple</td>\n",
       "      <td>Exxon Mobil</td>\n",
       "      <td>Google</td>\n",
       "      <td>Berkshire Hathaway</td>\n",
       "      <td>General Electric</td>\n",
       "      <td>Wal-Mart Stores</td>\n",
       "      <td>IBM</td>\n",
       "      <td>Microsoft</td>\n",
       "      <td>Chevron</td>\n",
       "      <td>Johnson &amp; Johnson</td>\n",
       "    </tr>\n",
       "  </tbody>\n",
       "</table>\n",
       "</div>"
      ],
      "text/plain": [
       "                                   0               1                2  \\\n",
       "Top 10 Sales         Wal-Mart Stores     Exxon Mobil          Chevron   \n",
       "Top 10 Profits           Exxon Mobil           Apple          Chevron   \n",
       "Top 10 Assets             Fannie Mae  JPMorgan Chase  Bank of America   \n",
       "Top 10 Market Value            Apple     Exxon Mobil           Google   \n",
       "\n",
       "                                      3                 4                   5  \\\n",
       "Top 10 Sales                Phillips 66             Apple  Berkshire Hathaway   \n",
       "Top 10 Profits           JPMorgan Chase       Wells Fargo     Wal-Mart Stores   \n",
       "Top 10 Assets               Freddie Mac         Citigroup         Wells Fargo   \n",
       "Top 10 Market Value  Berkshire Hathaway  General Electric     Wal-Mart Stores   \n",
       "\n",
       "                                       6                 7  \\\n",
       "Top 10 Sales              General Motors  General Electric   \n",
       "Top 10 Profits                       IBM         Microsoft   \n",
       "Top 10 Assets        Goldman Sachs Group           MetLife   \n",
       "Top 10 Market Value                  IBM         Microsoft   \n",
       "\n",
       "                                      8                     9  \n",
       "Top 10 Sales              Valero Energy            Ford Motor  \n",
       "Top 10 Profits       Berkshire Hathaway                Pfizer  \n",
       "Top 10 Assets            Morgan Stanley  Prudential Financial  \n",
       "Top 10 Market Value             Chevron     Johnson & Johnson  "
      ]
     },
     "execution_count": 56,
     "metadata": {},
     "output_type": "execute_result"
    }
   ],
   "source": [
    "top10_assets = data.sort_values('Assets',ascending=False).head(10).Company.values.tolist()\n",
    "top10_marketvalue = data.sort_values('Market Value',ascending=False).head(10).Company.values.tolist()\n",
    "top10_df = pd.DataFrame([top10_sales,top10_profits, top10_assets, top10_marketvalue],\n",
    "                        index=['Top 10 Sales', 'Top 10 Profits',\n",
    "                               'Top 10 Assets', 'Top 10 Market Value'])\n",
    "\n",
    "top10_df"
   ]
  },
  {
   "cell_type": "markdown",
   "metadata": {},
   "source": [
    "### Relationship between Variables"
   ]
  },
  {
   "cell_type": "code",
   "execution_count": 51,
   "metadata": {
    "scrolled": true
   },
   "outputs": [
    {
     "data": {
      "text/html": [
       "<div>\n",
       "<style>\n",
       "    .dataframe thead tr:only-child th {\n",
       "        text-align: right;\n",
       "    }\n",
       "\n",
       "    .dataframe thead th {\n",
       "        text-align: left;\n",
       "    }\n",
       "\n",
       "    .dataframe tbody tr th {\n",
       "        vertical-align: top;\n",
       "    }\n",
       "</style>\n",
       "<table border=\"1\" class=\"dataframe\">\n",
       "  <thead>\n",
       "    <tr style=\"text-align: right;\">\n",
       "      <th></th>\n",
       "      <th>Sales</th>\n",
       "      <th>Profits</th>\n",
       "      <th>Assets</th>\n",
       "      <th>Cost</th>\n",
       "      <th>Market Value</th>\n",
       "    </tr>\n",
       "  </thead>\n",
       "  <tbody>\n",
       "    <tr>\n",
       "      <th>Sales</th>\n",
       "      <td>1.000000</td>\n",
       "      <td>0.693255</td>\n",
       "      <td>0.351798</td>\n",
       "      <td>0.997009</td>\n",
       "      <td>0.691276</td>\n",
       "    </tr>\n",
       "    <tr>\n",
       "      <th>Profits</th>\n",
       "      <td>0.693255</td>\n",
       "      <td>1.000000</td>\n",
       "      <td>0.364138</td>\n",
       "      <td>0.635478</td>\n",
       "      <td>0.881346</td>\n",
       "    </tr>\n",
       "    <tr>\n",
       "      <th>Assets</th>\n",
       "      <td>0.351798</td>\n",
       "      <td>0.364138</td>\n",
       "      <td>1.000000</td>\n",
       "      <td>0.337849</td>\n",
       "      <td>0.300769</td>\n",
       "    </tr>\n",
       "    <tr>\n",
       "      <th>Cost</th>\n",
       "      <td>0.997009</td>\n",
       "      <td>0.635478</td>\n",
       "      <td>0.337849</td>\n",
       "      <td>1.000000</td>\n",
       "      <td>0.646084</td>\n",
       "    </tr>\n",
       "    <tr>\n",
       "      <th>Market Value</th>\n",
       "      <td>0.691276</td>\n",
       "      <td>0.881346</td>\n",
       "      <td>0.300769</td>\n",
       "      <td>0.646084</td>\n",
       "      <td>1.000000</td>\n",
       "    </tr>\n",
       "  </tbody>\n",
       "</table>\n",
       "</div>"
      ],
      "text/plain": [
       "                 Sales   Profits    Assets      Cost  Market Value\n",
       "Sales         1.000000  0.693255  0.351798  0.997009      0.691276\n",
       "Profits       0.693255  1.000000  0.364138  0.635478      0.881346\n",
       "Assets        0.351798  0.364138  1.000000  0.337849      0.300769\n",
       "Cost          0.997009  0.635478  0.337849  1.000000      0.646084\n",
       "Market Value  0.691276  0.881346  0.300769  0.646084      1.000000"
      ]
     },
     "execution_count": 51,
     "metadata": {},
     "output_type": "execute_result"
    }
   ],
   "source": [
    "# Correlation between different metrics\n",
    "\n",
    "data[['Sales','Profits','Assets','Cost','Market Value']].corr()"
   ]
  },
  {
   "cell_type": "code",
   "execution_count": 57,
   "metadata": {
    "scrolled": true
   },
   "outputs": [
    {
     "data": {
      "text/plain": [
       "<matplotlib.axes._subplots.AxesSubplot at 0x20f54deb6d8>"
      ]
     },
     "execution_count": 57,
     "metadata": {},
     "output_type": "execute_result"
    },
    {
     "data": {
      "image/png": "[encoded data removed]",
      "text/plain": [
       "<matplotlib.figure.Figure at 0x20f54d6aba8>"
      ]
     },
     "metadata": {},
     "output_type": "display_data"
    }
   ],
   "source": [
    "sns.heatmap(data[['Sales','Profits','Assets','Cost','Market Value']].corr(), cmap='coolwarm', annot=True)"
   ]
  },
  {
   "cell_type": "markdown",
   "metadata": {},
   "source": [
    "- Sales and Cost have very strong correlation with value close to 1. This is natural because as you increase sales, you need to produce more which means more cost is incurred\n",
    "- Sales have relatively strong correlation with profits and market value. In general, the more sales you have, the higher your profits and market value become\n",
    "- Market Value & Profits is the 2nd to highest correlation pair. The more profits a  company produces, the its value is evaluated higher in the market.\n",
    "- Assets have relatively weaker correlation with the rest of the metrics. This is probably because calculating assets(the sum of Liabilities and Shareholder Equity) do not involve sales, profits or market value and thus less related."
   ]
  },
  {
   "cell_type": "markdown",
   "metadata": {},
   "source": [
    "All these observations correspond to our common knowledge that companies that are big with high sales and with higher profits tend to be evaluated higher in the market"
   ]
  }
 ],
 "metadata": {
  "kernelspec": {
   "display_name": "Python 3",
   "language": "python",
   "name": "python3"
  },
  "language_info": {
   "codemirror_mode": {
    "name": "ipython",
    "version": 3
   },
   "file_extension": ".py",
   "mimetype": "text/x-python",
   "name": "python",
   "nbconvert_exporter": "python",
   "pygments_lexer": "ipython3",
   "version": "3.6.1"
  }
 },
 "nbformat": 4,
 "nbformat_minor": 2
}
